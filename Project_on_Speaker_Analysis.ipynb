{
 "cells": [
  {
   "cell_type": "markdown",
   "id": "5ed74e17",
   "metadata": {},
   "source": [
    "## Speaker Annalysis"
   ]
  },
  {
   "cell_type": "markdown",
   "id": "a86d4af8",
   "metadata": {},
   "source": [
    "### Problem statement:\n",
    "#### The objective is to find the best speakers on Flipkart based on the following criteria: price, brand, rating, and discount.\n"
   ]
  },
  {
   "cell_type": "markdown",
   "id": "1f425e40",
   "metadata": {},
   "source": [
    "### contents\n",
    "- Importing reqired libraries\n",
    "\n",
    "- Scraping the data from \"Flipkart.com\" website\n",
    "\n",
    "- Cleaning the data\n",
    "\n",
    "- Data visualization\n",
    "\n"
   ]
  },
  {
   "cell_type": "code",
   "execution_count": 1,
   "id": "7c98d353",
   "metadata": {},
   "outputs": [],
   "source": [
    "# importing required libraries\n",
    "import numpy as np\n",
    "import pandas as pd\n",
    "import requests\n",
    "import re\n",
    "from bs4 import BeautifulSoup\n",
    "import matplotlib.pyplot as plt\n",
    "import seaborn as sns"
   ]
  },
  {
   "cell_type": "markdown",
   "id": "368fc420",
   "metadata": {},
   "source": [
    "##### Note:The Beautiful Soup library in Python makes extracting HTML from web pages easy.\n"
   ]
  },
  {
   "cell_type": "markdown",
   "id": "dc374b56",
   "metadata": {},
   "source": [
    "#### Multiple pages Extraction:"
   ]
  },
  {
   "cell_type": "code",
   "execution_count": 2,
   "id": "3825ed3a",
   "metadata": {},
   "outputs": [],
   "source": [
    "Brands = []\n",
    "prices = []\n",
    "discounts = []\n",
    "ratings = []\n",
    "shipping_charge = []\n",
    "colors = []\n",
    "channels = []\n",
    "\n",
    "for i in range(1,50):\n",
    "    URL = (\"https://www.flipkart.com/search?q=speakers&sid=0pm%2C0o7&as=on&as-show=on&otracker=AS_QueryStore_OrganicAutoSuggest_1_6_na_na_na&otracker1=AS_QueryStore_OrganicAutoSuggest_1_6_na_na_na&as-pos=1&as-type=RECENT&suggestionId=speakers%7CSpeakers&requestId=5aadc235-990c-4bd9-aac6-f45d362e10a6&as-searchtext=speake%27\")\n",
    "    page = requests.get(URL)\n",
    "    htmlCode = page.text\n",
    "    soup = BeautifulSoup(htmlCode)\n",
    "    for container in soup.find_all('div', attrs={'class' :'_4ddWXP'}):\n",
    "        Brand = container.find('a', attrs={'class' :'s1Q9rs'})\n",
    "        if Brand is None:\n",
    "            Brands.append(np.NaN)\n",
    "        else:\n",
    "            Brands.append(Brand.text.replace('F','Ferons ').replace('I','I-kall').split()[0])\n",
    "        price = container.find('div', attrs={'class' :'_30jeq3'})\n",
    "        if price is None:\n",
    "            prices.append(np.NaN)\n",
    "        else:\n",
    "            prices.append(price.text.replace('₹',' ').replace(',',''))\n",
    "        discount = container.find('div', attrs={'class' :'_3Ay6Sb'})\n",
    "        if discount is None:\n",
    "            discounts.append(np.NaN)\n",
    "        else:\n",
    "            discounts.append(discount.text)\n",
    "        rating = container.find('div', attrs={'class' :'_3LWZlK'})\n",
    "        if rating is None:\n",
    "            ratings.append(np.NaN)\n",
    "        else:\n",
    "            ratings.append(rating.text)\n",
    "        shipping = container.find('div', attrs={'class' :'_2Tpdn3'})\n",
    "        if shipping is None:\n",
    "            shipping_charge.append(np.NaN)\n",
    "        else:\n",
    "            shipping_charge.append(shipping.text) \n",
    "        color = container.find('div', attrs={'class' :'_3Djpdu'})\n",
    "        if color is None:\n",
    "            colors.append(np.NaN)\n",
    "        else:\n",
    "            colors.append(color.text.replace(',',' ').split()[0])\n",
    "        channel = container.find('div', attrs={'class' :'_3Djpdu'})\n",
    "        if channel is None:\n",
    "            channels.append(np.NaN)\n",
    "        else:\n",
    "            channels.append(channel.text)\n"
   ]
  },
  {
   "cell_type": "markdown",
   "id": "aadef240",
   "metadata": {},
   "source": [
    "#### Here we use page.status_code to check the website is scrapable or not."
   ]
  },
  {
   "cell_type": "code",
   "execution_count": 3,
   "id": "baca66cf",
   "metadata": {},
   "outputs": [
    {
     "data": {
      "text/plain": [
       "<Response [200]>"
      ]
     },
     "execution_count": 3,
     "metadata": {},
     "output_type": "execute_result"
    }
   ],
   "source": [
    "page = requests.get(URL)\n",
    "page"
   ]
  },
  {
   "cell_type": "code",
   "execution_count": 4,
   "id": "2a61cd0d",
   "metadata": {},
   "outputs": [],
   "source": [
    "l = []\n",
    "for i in channels:\n",
    "    c = re.findall(r\",\\s([a-zA-z0-9.]+\\s[a-zA-Z]+)\",str(i))\n",
    "    if len(c)>0:\n",
    "        l.append(c[0])\n",
    "    else:\n",
    "        l.append(np.NaN)"
   ]
  },
  {
   "cell_type": "markdown",
   "id": "e977433a",
   "metadata": {},
   "source": [
    "#### checking if the length of all columns are same."
   ]
  },
  {
   "cell_type": "code",
   "execution_count": 5,
   "id": "7a12528e",
   "metadata": {},
   "outputs": [
    {
     "name": "stdout",
     "output_type": "stream",
     "text": [
      "1960\n"
     ]
    }
   ],
   "source": [
    "print(len(shipping_charge))"
   ]
  },
  {
   "cell_type": "code",
   "execution_count": 6,
   "id": "c578638d",
   "metadata": {},
   "outputs": [
    {
     "name": "stdout",
     "output_type": "stream",
     "text": [
      "1960\n"
     ]
    }
   ],
   "source": [
    "print(len(channels))"
   ]
  },
  {
   "cell_type": "code",
   "execution_count": 7,
   "id": "592c6ff2",
   "metadata": {},
   "outputs": [
    {
     "name": "stdout",
     "output_type": "stream",
     "text": [
      "1960\n"
     ]
    }
   ],
   "source": [
    "print(len(Brands))"
   ]
  },
  {
   "cell_type": "code",
   "execution_count": 8,
   "id": "72ff6103",
   "metadata": {},
   "outputs": [
    {
     "name": "stdout",
     "output_type": "stream",
     "text": [
      "1960\n"
     ]
    }
   ],
   "source": [
    "print(len(ratings))"
   ]
  },
  {
   "cell_type": "code",
   "execution_count": 9,
   "id": "1c692b1b",
   "metadata": {},
   "outputs": [
    {
     "name": "stdout",
     "output_type": "stream",
     "text": [
      "1960\n"
     ]
    }
   ],
   "source": [
    "print(len(prices))"
   ]
  },
  {
   "cell_type": "code",
   "execution_count": 10,
   "id": "ee7a8445",
   "metadata": {},
   "outputs": [
    {
     "name": "stdout",
     "output_type": "stream",
     "text": [
      "1960\n"
     ]
    }
   ],
   "source": [
    "print(len(discounts))"
   ]
  },
  {
   "cell_type": "markdown",
   "id": "b577125a",
   "metadata": {},
   "source": [
    "#### Creating a Data_Frame."
   ]
  },
  {
   "cell_type": "code",
   "execution_count": 11,
   "id": "752cbae7",
   "metadata": {},
   "outputs": [],
   "source": [
    "d = {'Brand': Brands,'Price(In_Rupees)': prices,'Discount':discounts,'Rating': ratings,'Shipping_Charge':shipping_charge,'Color': colors,'Channel': l}"
   ]
  },
  {
   "cell_type": "code",
   "execution_count": 12,
   "id": "d646c629",
   "metadata": {},
   "outputs": [],
   "source": [
    "Data_Frame = pd.DataFrame(d)"
   ]
  },
  {
   "cell_type": "code",
   "execution_count": 13,
   "id": "f094901a",
   "metadata": {},
   "outputs": [
    {
     "data": {
      "text/html": [
       "<div>\n",
       "<style scoped>\n",
       "    .dataframe tbody tr th:only-of-type {\n",
       "        vertical-align: middle;\n",
       "    }\n",
       "\n",
       "    .dataframe tbody tr th {\n",
       "        vertical-align: top;\n",
       "    }\n",
       "\n",
       "    .dataframe thead th {\n",
       "        text-align: right;\n",
       "    }\n",
       "</style>\n",
       "<table border=\"1\" class=\"dataframe\">\n",
       "  <thead>\n",
       "    <tr style=\"text-align: right;\">\n",
       "      <th></th>\n",
       "      <th>Brand</th>\n",
       "      <th>Price(In_Rupees)</th>\n",
       "      <th>Discount</th>\n",
       "      <th>Rating</th>\n",
       "      <th>Shipping_Charge</th>\n",
       "      <th>Color</th>\n",
       "      <th>Channel</th>\n",
       "    </tr>\n",
       "  </thead>\n",
       "  <tbody>\n",
       "    <tr>\n",
       "      <th>0</th>\n",
       "      <td>boAt</td>\n",
       "      <td>2499</td>\n",
       "      <td>64% off</td>\n",
       "      <td>4.4</td>\n",
       "      <td>Free delivery</td>\n",
       "      <td>Navy</td>\n",
       "      <td>Stereo Channel</td>\n",
       "    </tr>\n",
       "    <tr>\n",
       "      <th>1</th>\n",
       "      <td>boAt</td>\n",
       "      <td>4499</td>\n",
       "      <td>43% off</td>\n",
       "      <td>4</td>\n",
       "      <td>Free delivery</td>\n",
       "      <td>Red</td>\n",
       "      <td>Stereo Channel</td>\n",
       "    </tr>\n",
       "    <tr>\n",
       "      <th>2</th>\n",
       "      <td>I-kallntex</td>\n",
       "      <td>2599</td>\n",
       "      <td>13% off</td>\n",
       "      <td>3.8</td>\n",
       "      <td>Free delivery</td>\n",
       "      <td>Black</td>\n",
       "      <td>4.1 Channel</td>\n",
       "    </tr>\n",
       "    <tr>\n",
       "      <th>3</th>\n",
       "      <td>boAt</td>\n",
       "      <td>1299</td>\n",
       "      <td>56% off</td>\n",
       "      <td>4.4</td>\n",
       "      <td>Free delivery</td>\n",
       "      <td>Blue</td>\n",
       "      <td>Stereo Channel</td>\n",
       "    </tr>\n",
       "    <tr>\n",
       "      <th>4</th>\n",
       "      <td>Mivi</td>\n",
       "      <td>849</td>\n",
       "      <td>57% off</td>\n",
       "      <td>4.2</td>\n",
       "      <td>Free delivery</td>\n",
       "      <td>Blue</td>\n",
       "      <td>Mono Channel</td>\n",
       "    </tr>\n",
       "    <tr>\n",
       "      <th>...</th>\n",
       "      <td>...</td>\n",
       "      <td>...</td>\n",
       "      <td>...</td>\n",
       "      <td>...</td>\n",
       "      <td>...</td>\n",
       "      <td>...</td>\n",
       "      <td>...</td>\n",
       "    </tr>\n",
       "    <tr>\n",
       "      <th>1955</th>\n",
       "      <td>ZEBRONI-kallCS</td>\n",
       "      <td>1999</td>\n",
       "      <td>42% off</td>\n",
       "      <td>4</td>\n",
       "      <td>Free delivery</td>\n",
       "      <td>Black</td>\n",
       "      <td>Stereo Channel</td>\n",
       "    </tr>\n",
       "    <tr>\n",
       "      <th>1956</th>\n",
       "      <td>boAt</td>\n",
       "      <td>3999</td>\n",
       "      <td>42% off</td>\n",
       "      <td>4.4</td>\n",
       "      <td>Free delivery</td>\n",
       "      <td>Black</td>\n",
       "      <td>Stereo Channel</td>\n",
       "    </tr>\n",
       "    <tr>\n",
       "      <th>1957</th>\n",
       "      <td>etmax</td>\n",
       "      <td>997</td>\n",
       "      <td>56% off</td>\n",
       "      <td>3.8</td>\n",
       "      <td>Free delivery</td>\n",
       "      <td>Black</td>\n",
       "      <td>Stereo Channel</td>\n",
       "    </tr>\n",
       "    <tr>\n",
       "      <th>1958</th>\n",
       "      <td>boAt</td>\n",
       "      <td>1999</td>\n",
       "      <td>33% off</td>\n",
       "      <td>4</td>\n",
       "      <td>Free delivery</td>\n",
       "      <td>Black</td>\n",
       "      <td>Stereo Channel</td>\n",
       "    </tr>\n",
       "    <tr>\n",
       "      <th>1959</th>\n",
       "      <td>KSD</td>\n",
       "      <td>989</td>\n",
       "      <td>50% off</td>\n",
       "      <td>3.8</td>\n",
       "      <td>Free delivery</td>\n",
       "      <td>Black</td>\n",
       "      <td>5.0 Channel</td>\n",
       "    </tr>\n",
       "  </tbody>\n",
       "</table>\n",
       "<p>1960 rows × 7 columns</p>\n",
       "</div>"
      ],
      "text/plain": [
       "               Brand Price(In_Rupees) Discount Rating Shipping_Charge  Color  \\\n",
       "0               boAt             2499  64% off    4.4   Free delivery   Navy   \n",
       "1               boAt             4499  43% off      4   Free delivery    Red   \n",
       "2         I-kallntex             2599  13% off    3.8   Free delivery  Black   \n",
       "3               boAt             1299  56% off    4.4   Free delivery   Blue   \n",
       "4               Mivi              849  57% off    4.2   Free delivery   Blue   \n",
       "...              ...              ...      ...    ...             ...    ...   \n",
       "1955  ZEBRONI-kallCS             1999  42% off      4   Free delivery  Black   \n",
       "1956            boAt             3999  42% off    4.4   Free delivery  Black   \n",
       "1957           etmax              997  56% off    3.8   Free delivery  Black   \n",
       "1958            boAt             1999  33% off      4   Free delivery  Black   \n",
       "1959             KSD              989  50% off    3.8   Free delivery  Black   \n",
       "\n",
       "             Channel  \n",
       "0     Stereo Channel  \n",
       "1     Stereo Channel  \n",
       "2        4.1 Channel  \n",
       "3     Stereo Channel  \n",
       "4       Mono Channel  \n",
       "...              ...  \n",
       "1955  Stereo Channel  \n",
       "1956  Stereo Channel  \n",
       "1957  Stereo Channel  \n",
       "1958  Stereo Channel  \n",
       "1959     5.0 Channel  \n",
       "\n",
       "[1960 rows x 7 columns]"
      ]
     },
     "execution_count": 13,
     "metadata": {},
     "output_type": "execute_result"
    }
   ],
   "source": [
    "Data_Frame"
   ]
  },
  {
   "cell_type": "code",
   "execution_count": 14,
   "id": "af77d593",
   "metadata": {},
   "outputs": [],
   "source": [
    "a =[]\n",
    "for i in prices:\n",
    "     a.append(int(i))\n",
    "Data_Frame['Price(In-Rupees)']= a\n"
   ]
  },
  {
   "cell_type": "markdown",
   "id": "5c3fccdb",
   "metadata": {},
   "source": [
    "#### Changing price column object type into int type."
   ]
  },
  {
   "cell_type": "code",
   "execution_count": 15,
   "id": "2f2dc2ce",
   "metadata": {},
   "outputs": [],
   "source": [
    "b = []\n",
    "for i in ratings:\n",
    "    b.append(float(i))\n",
    "Data_Frame[\"ratings\"] = b    "
   ]
  },
  {
   "cell_type": "markdown",
   "id": "11e04e8d",
   "metadata": {},
   "source": [
    "#### changing rating column object type to float type."
   ]
  },
  {
   "cell_type": "code",
   "execution_count": 16,
   "id": "8423d9d2",
   "metadata": {},
   "outputs": [],
   "source": [
    "c = []\n",
    "for i in discounts:\n",
    "    d = re.findall(r\"\\d+\", i)\n",
    "    if len(d)>0:\n",
    "        c.append(d[0])\n",
    "    else:\n",
    "        c.append(np.NaN)"
   ]
  },
  {
   "cell_type": "markdown",
   "id": "ada81b06",
   "metadata": {},
   "source": [
    "#### Here, Discount column contains the (%) symbol so to remove this special charater we used regular expression."
   ]
  },
  {
   "cell_type": "code",
   "execution_count": 17,
   "id": "92d531bb",
   "metadata": {},
   "outputs": [],
   "source": [
    "e = []\n",
    "for i in c:\n",
    "    e.append(int(i))\n",
    "Data_Frame['c'] = e  "
   ]
  },
  {
   "cell_type": "markdown",
   "id": "fa2dc579",
   "metadata": {},
   "source": [
    "#### Changing Discount column object type to int type."
   ]
  },
  {
   "cell_type": "code",
   "execution_count": 18,
   "id": "cf9e07e8",
   "metadata": {},
   "outputs": [],
   "source": [
    "d = {'Brand': Brands,'Price(In_Rupees)': a,'Discount in percentage':e,'Rating': b,'Shipping_Charge':shipping_charge,'Color': colors,'Channel': l}"
   ]
  },
  {
   "cell_type": "code",
   "execution_count": 19,
   "id": "18204c1a",
   "metadata": {},
   "outputs": [],
   "source": [
    "Data_Frame = pd.DataFrame(d)"
   ]
  },
  {
   "cell_type": "code",
   "execution_count": 20,
   "id": "4a6b48fb",
   "metadata": {},
   "outputs": [
    {
     "data": {
      "text/html": [
       "<div>\n",
       "<style scoped>\n",
       "    .dataframe tbody tr th:only-of-type {\n",
       "        vertical-align: middle;\n",
       "    }\n",
       "\n",
       "    .dataframe tbody tr th {\n",
       "        vertical-align: top;\n",
       "    }\n",
       "\n",
       "    .dataframe thead th {\n",
       "        text-align: right;\n",
       "    }\n",
       "</style>\n",
       "<table border=\"1\" class=\"dataframe\">\n",
       "  <thead>\n",
       "    <tr style=\"text-align: right;\">\n",
       "      <th></th>\n",
       "      <th>Brand</th>\n",
       "      <th>Price(In_Rupees)</th>\n",
       "      <th>Discount in percentage</th>\n",
       "      <th>Rating</th>\n",
       "      <th>Shipping_Charge</th>\n",
       "      <th>Color</th>\n",
       "      <th>Channel</th>\n",
       "    </tr>\n",
       "  </thead>\n",
       "  <tbody>\n",
       "    <tr>\n",
       "      <th>0</th>\n",
       "      <td>boAt</td>\n",
       "      <td>2499</td>\n",
       "      <td>64</td>\n",
       "      <td>4.4</td>\n",
       "      <td>Free delivery</td>\n",
       "      <td>Navy</td>\n",
       "      <td>Stereo Channel</td>\n",
       "    </tr>\n",
       "    <tr>\n",
       "      <th>1</th>\n",
       "      <td>boAt</td>\n",
       "      <td>4499</td>\n",
       "      <td>43</td>\n",
       "      <td>4.0</td>\n",
       "      <td>Free delivery</td>\n",
       "      <td>Red</td>\n",
       "      <td>Stereo Channel</td>\n",
       "    </tr>\n",
       "    <tr>\n",
       "      <th>2</th>\n",
       "      <td>I-kallntex</td>\n",
       "      <td>2599</td>\n",
       "      <td>13</td>\n",
       "      <td>3.8</td>\n",
       "      <td>Free delivery</td>\n",
       "      <td>Black</td>\n",
       "      <td>4.1 Channel</td>\n",
       "    </tr>\n",
       "    <tr>\n",
       "      <th>3</th>\n",
       "      <td>boAt</td>\n",
       "      <td>1299</td>\n",
       "      <td>56</td>\n",
       "      <td>4.4</td>\n",
       "      <td>Free delivery</td>\n",
       "      <td>Blue</td>\n",
       "      <td>Stereo Channel</td>\n",
       "    </tr>\n",
       "    <tr>\n",
       "      <th>4</th>\n",
       "      <td>Mivi</td>\n",
       "      <td>849</td>\n",
       "      <td>57</td>\n",
       "      <td>4.2</td>\n",
       "      <td>Free delivery</td>\n",
       "      <td>Blue</td>\n",
       "      <td>Mono Channel</td>\n",
       "    </tr>\n",
       "    <tr>\n",
       "      <th>...</th>\n",
       "      <td>...</td>\n",
       "      <td>...</td>\n",
       "      <td>...</td>\n",
       "      <td>...</td>\n",
       "      <td>...</td>\n",
       "      <td>...</td>\n",
       "      <td>...</td>\n",
       "    </tr>\n",
       "    <tr>\n",
       "      <th>1955</th>\n",
       "      <td>ZEBRONI-kallCS</td>\n",
       "      <td>1999</td>\n",
       "      <td>42</td>\n",
       "      <td>4.0</td>\n",
       "      <td>Free delivery</td>\n",
       "      <td>Black</td>\n",
       "      <td>Stereo Channel</td>\n",
       "    </tr>\n",
       "    <tr>\n",
       "      <th>1956</th>\n",
       "      <td>boAt</td>\n",
       "      <td>3999</td>\n",
       "      <td>42</td>\n",
       "      <td>4.4</td>\n",
       "      <td>Free delivery</td>\n",
       "      <td>Black</td>\n",
       "      <td>Stereo Channel</td>\n",
       "    </tr>\n",
       "    <tr>\n",
       "      <th>1957</th>\n",
       "      <td>etmax</td>\n",
       "      <td>997</td>\n",
       "      <td>56</td>\n",
       "      <td>3.8</td>\n",
       "      <td>Free delivery</td>\n",
       "      <td>Black</td>\n",
       "      <td>Stereo Channel</td>\n",
       "    </tr>\n",
       "    <tr>\n",
       "      <th>1958</th>\n",
       "      <td>boAt</td>\n",
       "      <td>1999</td>\n",
       "      <td>33</td>\n",
       "      <td>4.0</td>\n",
       "      <td>Free delivery</td>\n",
       "      <td>Black</td>\n",
       "      <td>Stereo Channel</td>\n",
       "    </tr>\n",
       "    <tr>\n",
       "      <th>1959</th>\n",
       "      <td>KSD</td>\n",
       "      <td>989</td>\n",
       "      <td>50</td>\n",
       "      <td>3.8</td>\n",
       "      <td>Free delivery</td>\n",
       "      <td>Black</td>\n",
       "      <td>5.0 Channel</td>\n",
       "    </tr>\n",
       "  </tbody>\n",
       "</table>\n",
       "<p>1960 rows × 7 columns</p>\n",
       "</div>"
      ],
      "text/plain": [
       "               Brand  Price(In_Rupees)  Discount in percentage  Rating  \\\n",
       "0               boAt              2499                      64     4.4   \n",
       "1               boAt              4499                      43     4.0   \n",
       "2         I-kallntex              2599                      13     3.8   \n",
       "3               boAt              1299                      56     4.4   \n",
       "4               Mivi               849                      57     4.2   \n",
       "...              ...               ...                     ...     ...   \n",
       "1955  ZEBRONI-kallCS              1999                      42     4.0   \n",
       "1956            boAt              3999                      42     4.4   \n",
       "1957           etmax               997                      56     3.8   \n",
       "1958            boAt              1999                      33     4.0   \n",
       "1959             KSD               989                      50     3.8   \n",
       "\n",
       "     Shipping_Charge  Color         Channel  \n",
       "0      Free delivery   Navy  Stereo Channel  \n",
       "1      Free delivery    Red  Stereo Channel  \n",
       "2      Free delivery  Black     4.1 Channel  \n",
       "3      Free delivery   Blue  Stereo Channel  \n",
       "4      Free delivery   Blue    Mono Channel  \n",
       "...              ...    ...             ...  \n",
       "1955   Free delivery  Black  Stereo Channel  \n",
       "1956   Free delivery  Black  Stereo Channel  \n",
       "1957   Free delivery  Black  Stereo Channel  \n",
       "1958   Free delivery  Black  Stereo Channel  \n",
       "1959   Free delivery  Black     5.0 Channel  \n",
       "\n",
       "[1960 rows x 7 columns]"
      ]
     },
     "execution_count": 20,
     "metadata": {},
     "output_type": "execute_result"
    }
   ],
   "source": [
    "Data_Frame"
   ]
  },
  {
   "cell_type": "code",
   "execution_count": 21,
   "id": "6fad809e",
   "metadata": {},
   "outputs": [
    {
     "name": "stdout",
     "output_type": "stream",
     "text": [
      "<class 'pandas.core.frame.DataFrame'>\n",
      "RangeIndex: 1960 entries, 0 to 1959\n",
      "Data columns (total 7 columns):\n",
      " #   Column                  Non-Null Count  Dtype  \n",
      "---  ------                  --------------  -----  \n",
      " 0   Brand                   1960 non-null   object \n",
      " 1   Price(In_Rupees)        1960 non-null   int64  \n",
      " 2   Discount in percentage  1960 non-null   int64  \n",
      " 3   Rating                  1859 non-null   float64\n",
      " 4   Shipping_Charge         1960 non-null   object \n",
      " 5   Color                   1960 non-null   object \n",
      " 6   Channel                 1904 non-null   object \n",
      "dtypes: float64(1), int64(2), object(4)\n",
      "memory usage: 107.3+ KB\n"
     ]
    }
   ],
   "source": [
    "Data_Frame.info()"
   ]
  },
  {
   "cell_type": "markdown",
   "id": "45abaf41",
   "metadata": {},
   "source": [
    "#### Checking total number of null values present in each column."
   ]
  },
  {
   "cell_type": "code",
   "execution_count": 22,
   "id": "8ed8b439",
   "metadata": {},
   "outputs": [
    {
     "data": {
      "text/plain": [
       "Brand                       0\n",
       "Price(In_Rupees)            0\n",
       "Discount in percentage      0\n",
       "Rating                    101\n",
       "Shipping_Charge             0\n",
       "Color                       0\n",
       "Channel                    56\n",
       "dtype: int64"
      ]
     },
     "execution_count": 22,
     "metadata": {},
     "output_type": "execute_result"
    }
   ],
   "source": [
    "Data_Frame.isna().sum()"
   ]
  },
  {
   "cell_type": "markdown",
   "id": "b7ac656b",
   "metadata": {},
   "source": [
    "####  Here, filling the null value present in column - 'Channel' with mode of channel as it is categorical column."
   ]
  },
  {
   "cell_type": "code",
   "execution_count": 23,
   "id": "47e4cb7e",
   "metadata": {},
   "outputs": [],
   "source": [
    "Data_Frame['Channel'] = Data_Frame['Channel'].fillna(Data_Frame['Channel'].mode()[0])"
   ]
  },
  {
   "cell_type": "code",
   "execution_count": 24,
   "id": "0ab16159",
   "metadata": {},
   "outputs": [],
   "source": [
    "import matplotlib.pyplot as plt\n",
    "import seaborn as sns"
   ]
  },
  {
   "cell_type": "code",
   "execution_count": 25,
   "id": "0e70b097",
   "metadata": {},
   "outputs": [
    {
     "name": "stderr",
     "output_type": "stream",
     "text": [
      "C:\\Users\\dell\\anaconda3\\lib\\site-packages\\seaborn\\_decorators.py:36: FutureWarning: Pass the following variable as a keyword arg: x. From version 0.12, the only valid positional argument will be `data`, and passing other arguments without an explicit keyword will result in an error or misinterpretation.\n",
      "  warnings.warn(\n"
     ]
    },
    {
     "data": {
      "text/plain": [
       "<AxesSubplot:xlabel='Rating'>"
      ]
     },
     "execution_count": 25,
     "metadata": {},
     "output_type": "execute_result"
    },
    {
     "data": {
      "image/png": "[encoded data removed]",
      "text/plain": [
       "<Figure size 432x288 with 1 Axes>"
      ]
     },
     "metadata": {
      "needs_background": "light"
     },
     "output_type": "display_data"
    }
   ],
   "source": [
    "# checking outlier in Rating column\n",
    "sns.boxplot(Data_Frame['Rating'])"
   ]
  },
  {
   "cell_type": "code",
   "execution_count": 65,
   "id": "9dc01f98",
   "metadata": {},
   "outputs": [
    {
     "name": "stdout",
     "output_type": "stream",
     "text": [
      "Q1: 4.0\n",
      "Q3: 4.3\n",
      "IQR: 0.2999999999999998\n",
      "3.5500000000000003\n",
      "4.75\n"
     ]
    }
   ],
   "source": [
    "# handling outliers:\n",
    "s=df['Rating'].quantile(0.25)\n",
    "print(\"Q1:\",s)# this is Q1.\n",
    "s1=df['Rating'].quantile(0.75)\n",
    "print(\"Q3:\",s1)# this is Q2.\n",
    "#now find IQR=Q3-Q1.\n",
    "IQR=s1-s\n",
    "print(\"IQR:\",IQR)#this is IQR.\n",
    "s2 = s-1.5*IQR # this is for < (-veoutlier)\n",
    "print(s2)\n",
    "s3= s1+1.5*IQR # this is for > (+veoutlier)\n",
    "print(s3)\n"
   ]
  },
  {
   "cell_type": "code",
   "execution_count": 26,
   "id": "68b22ef4",
   "metadata": {},
   "outputs": [],
   "source": [
    "Data_Frame['Rating'].replace('0.0',np.nan,inplace=True)"
   ]
  },
  {
   "cell_type": "markdown",
   "id": "d0827800",
   "metadata": {},
   "source": [
    "#### Since we observed that Rating column has outliers so filling null values with median of Rating because median is not affected by outliers."
   ]
  },
  {
   "cell_type": "code",
   "execution_count": 27,
   "id": "d5b38f1c",
   "metadata": {},
   "outputs": [],
   "source": [
    "Data_Frame['Rating'] = Data_Frame['Rating'].fillna(Data_Frame['Rating'].median())"
   ]
  },
  {
   "cell_type": "code",
   "execution_count": 28,
   "id": "792838ef",
   "metadata": {},
   "outputs": [
    {
     "data": {
      "text/html": [
       "<div>\n",
       "<style scoped>\n",
       "    .dataframe tbody tr th:only-of-type {\n",
       "        vertical-align: middle;\n",
       "    }\n",
       "\n",
       "    .dataframe tbody tr th {\n",
       "        vertical-align: top;\n",
       "    }\n",
       "\n",
       "    .dataframe thead th {\n",
       "        text-align: right;\n",
       "    }\n",
       "</style>\n",
       "<table border=\"1\" class=\"dataframe\">\n",
       "  <thead>\n",
       "    <tr style=\"text-align: right;\">\n",
       "      <th></th>\n",
       "      <th>Brand</th>\n",
       "      <th>Price(In_Rupees)</th>\n",
       "      <th>Discount in percentage</th>\n",
       "      <th>Rating</th>\n",
       "      <th>Shipping_Charge</th>\n",
       "      <th>Color</th>\n",
       "      <th>Channel</th>\n",
       "    </tr>\n",
       "  </thead>\n",
       "  <tbody>\n",
       "    <tr>\n",
       "      <th>0</th>\n",
       "      <td>boAt</td>\n",
       "      <td>2499</td>\n",
       "      <td>64</td>\n",
       "      <td>4.4</td>\n",
       "      <td>Free delivery</td>\n",
       "      <td>Navy</td>\n",
       "      <td>Stereo Channel</td>\n",
       "    </tr>\n",
       "    <tr>\n",
       "      <th>1</th>\n",
       "      <td>boAt</td>\n",
       "      <td>4499</td>\n",
       "      <td>43</td>\n",
       "      <td>4.0</td>\n",
       "      <td>Free delivery</td>\n",
       "      <td>Red</td>\n",
       "      <td>Stereo Channel</td>\n",
       "    </tr>\n",
       "    <tr>\n",
       "      <th>2</th>\n",
       "      <td>I-kallntex</td>\n",
       "      <td>2599</td>\n",
       "      <td>13</td>\n",
       "      <td>3.8</td>\n",
       "      <td>Free delivery</td>\n",
       "      <td>Black</td>\n",
       "      <td>4.1 Channel</td>\n",
       "    </tr>\n",
       "    <tr>\n",
       "      <th>3</th>\n",
       "      <td>boAt</td>\n",
       "      <td>1299</td>\n",
       "      <td>56</td>\n",
       "      <td>4.4</td>\n",
       "      <td>Free delivery</td>\n",
       "      <td>Blue</td>\n",
       "      <td>Stereo Channel</td>\n",
       "    </tr>\n",
       "    <tr>\n",
       "      <th>4</th>\n",
       "      <td>Mivi</td>\n",
       "      <td>849</td>\n",
       "      <td>57</td>\n",
       "      <td>4.2</td>\n",
       "      <td>Free delivery</td>\n",
       "      <td>Blue</td>\n",
       "      <td>Mono Channel</td>\n",
       "    </tr>\n",
       "    <tr>\n",
       "      <th>...</th>\n",
       "      <td>...</td>\n",
       "      <td>...</td>\n",
       "      <td>...</td>\n",
       "      <td>...</td>\n",
       "      <td>...</td>\n",
       "      <td>...</td>\n",
       "      <td>...</td>\n",
       "    </tr>\n",
       "    <tr>\n",
       "      <th>1955</th>\n",
       "      <td>ZEBRONI-kallCS</td>\n",
       "      <td>1999</td>\n",
       "      <td>42</td>\n",
       "      <td>4.0</td>\n",
       "      <td>Free delivery</td>\n",
       "      <td>Black</td>\n",
       "      <td>Stereo Channel</td>\n",
       "    </tr>\n",
       "    <tr>\n",
       "      <th>1956</th>\n",
       "      <td>boAt</td>\n",
       "      <td>3999</td>\n",
       "      <td>42</td>\n",
       "      <td>4.4</td>\n",
       "      <td>Free delivery</td>\n",
       "      <td>Black</td>\n",
       "      <td>Stereo Channel</td>\n",
       "    </tr>\n",
       "    <tr>\n",
       "      <th>1957</th>\n",
       "      <td>etmax</td>\n",
       "      <td>997</td>\n",
       "      <td>56</td>\n",
       "      <td>3.8</td>\n",
       "      <td>Free delivery</td>\n",
       "      <td>Black</td>\n",
       "      <td>Stereo Channel</td>\n",
       "    </tr>\n",
       "    <tr>\n",
       "      <th>1958</th>\n",
       "      <td>boAt</td>\n",
       "      <td>1999</td>\n",
       "      <td>33</td>\n",
       "      <td>4.0</td>\n",
       "      <td>Free delivery</td>\n",
       "      <td>Black</td>\n",
       "      <td>Stereo Channel</td>\n",
       "    </tr>\n",
       "    <tr>\n",
       "      <th>1959</th>\n",
       "      <td>KSD</td>\n",
       "      <td>989</td>\n",
       "      <td>50</td>\n",
       "      <td>3.8</td>\n",
       "      <td>Free delivery</td>\n",
       "      <td>Black</td>\n",
       "      <td>5.0 Channel</td>\n",
       "    </tr>\n",
       "  </tbody>\n",
       "</table>\n",
       "<p>1960 rows × 7 columns</p>\n",
       "</div>"
      ],
      "text/plain": [
       "               Brand  Price(In_Rupees)  Discount in percentage  Rating  \\\n",
       "0               boAt              2499                      64     4.4   \n",
       "1               boAt              4499                      43     4.0   \n",
       "2         I-kallntex              2599                      13     3.8   \n",
       "3               boAt              1299                      56     4.4   \n",
       "4               Mivi               849                      57     4.2   \n",
       "...              ...               ...                     ...     ...   \n",
       "1955  ZEBRONI-kallCS              1999                      42     4.0   \n",
       "1956            boAt              3999                      42     4.4   \n",
       "1957           etmax               997                      56     3.8   \n",
       "1958            boAt              1999                      33     4.0   \n",
       "1959             KSD               989                      50     3.8   \n",
       "\n",
       "     Shipping_Charge  Color         Channel  \n",
       "0      Free delivery   Navy  Stereo Channel  \n",
       "1      Free delivery    Red  Stereo Channel  \n",
       "2      Free delivery  Black     4.1 Channel  \n",
       "3      Free delivery   Blue  Stereo Channel  \n",
       "4      Free delivery   Blue    Mono Channel  \n",
       "...              ...    ...             ...  \n",
       "1955   Free delivery  Black  Stereo Channel  \n",
       "1956   Free delivery  Black  Stereo Channel  \n",
       "1957   Free delivery  Black  Stereo Channel  \n",
       "1958   Free delivery  Black  Stereo Channel  \n",
       "1959   Free delivery  Black     5.0 Channel  \n",
       "\n",
       "[1960 rows x 7 columns]"
      ]
     },
     "execution_count": 28,
     "metadata": {},
     "output_type": "execute_result"
    }
   ],
   "source": [
    "Data_Frame"
   ]
  },
  {
   "cell_type": "code",
   "execution_count": 29,
   "id": "23b2fb2f",
   "metadata": {},
   "outputs": [
    {
     "data": {
      "text/plain": [
       "Brand                     0\n",
       "Price(In_Rupees)          0\n",
       "Discount in percentage    0\n",
       "Rating                    0\n",
       "Shipping_Charge           0\n",
       "Color                     0\n",
       "Channel                   0\n",
       "dtype: int64"
      ]
     },
     "execution_count": 29,
     "metadata": {},
     "output_type": "execute_result"
    }
   ],
   "source": [
    "Data_Frame.isna().sum()"
   ]
  },
  {
   "cell_type": "code",
   "execution_count": 30,
   "id": "e41ff258",
   "metadata": {},
   "outputs": [],
   "source": [
    "Data_Frame.to_csv(\"c:\\\\Users\\\\dell\\\\Project_Speakers.csv\")"
   ]
  },
  {
   "cell_type": "code",
   "execution_count": 43,
   "id": "e2d2f674",
   "metadata": {},
   "outputs": [],
   "source": [
    "df = pd.read_csv('Project_Speakers.csv')"
   ]
  },
  {
   "cell_type": "code",
   "execution_count": 44,
   "id": "6986bbed",
   "metadata": {},
   "outputs": [
    {
     "name": "stdout",
     "output_type": "stream",
     "text": [
      "<class 'pandas.core.frame.DataFrame'>\n",
      "RangeIndex: 1960 entries, 0 to 1959\n",
      "Data columns (total 8 columns):\n",
      " #   Column                  Non-Null Count  Dtype  \n",
      "---  ------                  --------------  -----  \n",
      " 0   Unnamed: 0              1960 non-null   int64  \n",
      " 1   Brand                   1960 non-null   object \n",
      " 2   Price(In_Rupees)        1960 non-null   int64  \n",
      " 3   Discount in percentage  1960 non-null   int64  \n",
      " 4   Rating                  1960 non-null   float64\n",
      " 5   Shipping_Charge         1960 non-null   object \n",
      " 6   Color                   1960 non-null   object \n",
      " 7   Channel                 1960 non-null   object \n",
      "dtypes: float64(1), int64(3), object(4)\n",
      "memory usage: 122.6+ KB\n"
     ]
    }
   ],
   "source": [
    "df.info()"
   ]
  },
  {
   "cell_type": "code",
   "execution_count": 122,
   "id": "8281b809",
   "metadata": {},
   "outputs": [],
   "source": [
    "df.drop(['Unnamed: 0'],axis =1,inplace = True)"
   ]
  },
  {
   "cell_type": "code",
   "execution_count": 123,
   "id": "5e503085",
   "metadata": {},
   "outputs": [
    {
     "data": {
      "text/html": [
       "<div>\n",
       "<style scoped>\n",
       "    .dataframe tbody tr th:only-of-type {\n",
       "        vertical-align: middle;\n",
       "    }\n",
       "\n",
       "    .dataframe tbody tr th {\n",
       "        vertical-align: top;\n",
       "    }\n",
       "\n",
       "    .dataframe thead th {\n",
       "        text-align: right;\n",
       "    }\n",
       "</style>\n",
       "<table border=\"1\" class=\"dataframe\">\n",
       "  <thead>\n",
       "    <tr style=\"text-align: right;\">\n",
       "      <th></th>\n",
       "      <th>Brand</th>\n",
       "      <th>Price(In_Rupees)</th>\n",
       "      <th>Discount in percentage</th>\n",
       "      <th>Rating</th>\n",
       "      <th>Shipping_Charge</th>\n",
       "      <th>Color</th>\n",
       "      <th>Channel</th>\n",
       "    </tr>\n",
       "  </thead>\n",
       "  <tbody>\n",
       "    <tr>\n",
       "      <th>0</th>\n",
       "      <td>boAt</td>\n",
       "      <td>2499</td>\n",
       "      <td>64</td>\n",
       "      <td>4.4</td>\n",
       "      <td>Free delivery</td>\n",
       "      <td>Navy</td>\n",
       "      <td>Stereo Channel</td>\n",
       "    </tr>\n",
       "    <tr>\n",
       "      <th>1</th>\n",
       "      <td>boAt</td>\n",
       "      <td>4499</td>\n",
       "      <td>43</td>\n",
       "      <td>4.0</td>\n",
       "      <td>Free delivery</td>\n",
       "      <td>Red</td>\n",
       "      <td>Stereo Channel</td>\n",
       "    </tr>\n",
       "    <tr>\n",
       "      <th>2</th>\n",
       "      <td>I-kallntex</td>\n",
       "      <td>2599</td>\n",
       "      <td>13</td>\n",
       "      <td>3.8</td>\n",
       "      <td>Free delivery</td>\n",
       "      <td>Black</td>\n",
       "      <td>4.1 Channel</td>\n",
       "    </tr>\n",
       "    <tr>\n",
       "      <th>3</th>\n",
       "      <td>boAt</td>\n",
       "      <td>1299</td>\n",
       "      <td>56</td>\n",
       "      <td>4.4</td>\n",
       "      <td>Free delivery</td>\n",
       "      <td>Blue</td>\n",
       "      <td>Stereo Channel</td>\n",
       "    </tr>\n",
       "    <tr>\n",
       "      <th>4</th>\n",
       "      <td>Mivi</td>\n",
       "      <td>849</td>\n",
       "      <td>57</td>\n",
       "      <td>4.2</td>\n",
       "      <td>Free delivery</td>\n",
       "      <td>Blue</td>\n",
       "      <td>Mono Channel</td>\n",
       "    </tr>\n",
       "    <tr>\n",
       "      <th>...</th>\n",
       "      <td>...</td>\n",
       "      <td>...</td>\n",
       "      <td>...</td>\n",
       "      <td>...</td>\n",
       "      <td>...</td>\n",
       "      <td>...</td>\n",
       "      <td>...</td>\n",
       "    </tr>\n",
       "    <tr>\n",
       "      <th>1955</th>\n",
       "      <td>ZEBRONI-kallCS</td>\n",
       "      <td>1999</td>\n",
       "      <td>42</td>\n",
       "      <td>4.0</td>\n",
       "      <td>Free delivery</td>\n",
       "      <td>Black</td>\n",
       "      <td>Stereo Channel</td>\n",
       "    </tr>\n",
       "    <tr>\n",
       "      <th>1956</th>\n",
       "      <td>boAt</td>\n",
       "      <td>3999</td>\n",
       "      <td>42</td>\n",
       "      <td>4.4</td>\n",
       "      <td>Free delivery</td>\n",
       "      <td>Black</td>\n",
       "      <td>Stereo Channel</td>\n",
       "    </tr>\n",
       "    <tr>\n",
       "      <th>1957</th>\n",
       "      <td>etmax</td>\n",
       "      <td>997</td>\n",
       "      <td>56</td>\n",
       "      <td>3.8</td>\n",
       "      <td>Free delivery</td>\n",
       "      <td>Black</td>\n",
       "      <td>Stereo Channel</td>\n",
       "    </tr>\n",
       "    <tr>\n",
       "      <th>1958</th>\n",
       "      <td>boAt</td>\n",
       "      <td>1999</td>\n",
       "      <td>33</td>\n",
       "      <td>4.0</td>\n",
       "      <td>Free delivery</td>\n",
       "      <td>Black</td>\n",
       "      <td>Stereo Channel</td>\n",
       "    </tr>\n",
       "    <tr>\n",
       "      <th>1959</th>\n",
       "      <td>KSD</td>\n",
       "      <td>989</td>\n",
       "      <td>50</td>\n",
       "      <td>3.8</td>\n",
       "      <td>Free delivery</td>\n",
       "      <td>Black</td>\n",
       "      <td>5.0 Channel</td>\n",
       "    </tr>\n",
       "  </tbody>\n",
       "</table>\n",
       "<p>1960 rows × 7 columns</p>\n",
       "</div>"
      ],
      "text/plain": [
       "               Brand  Price(In_Rupees)  Discount in percentage  Rating  \\\n",
       "0               boAt              2499                      64     4.4   \n",
       "1               boAt              4499                      43     4.0   \n",
       "2         I-kallntex              2599                      13     3.8   \n",
       "3               boAt              1299                      56     4.4   \n",
       "4               Mivi               849                      57     4.2   \n",
       "...              ...               ...                     ...     ...   \n",
       "1955  ZEBRONI-kallCS              1999                      42     4.0   \n",
       "1956            boAt              3999                      42     4.4   \n",
       "1957           etmax               997                      56     3.8   \n",
       "1958            boAt              1999                      33     4.0   \n",
       "1959             KSD               989                      50     3.8   \n",
       "\n",
       "     Shipping_Charge  Color         Channel  \n",
       "0      Free delivery   Navy  Stereo Channel  \n",
       "1      Free delivery    Red  Stereo Channel  \n",
       "2      Free delivery  Black     4.1 Channel  \n",
       "3      Free delivery   Blue  Stereo Channel  \n",
       "4      Free delivery   Blue    Mono Channel  \n",
       "...              ...    ...             ...  \n",
       "1955   Free delivery  Black  Stereo Channel  \n",
       "1956   Free delivery  Black  Stereo Channel  \n",
       "1957   Free delivery  Black  Stereo Channel  \n",
       "1958   Free delivery  Black  Stereo Channel  \n",
       "1959   Free delivery  Black     5.0 Channel  \n",
       "\n",
       "[1960 rows x 7 columns]"
      ]
     },
     "execution_count": 123,
     "metadata": {},
     "output_type": "execute_result"
    }
   ],
   "source": [
    "df"
   ]
  },
  {
   "cell_type": "code",
   "execution_count": 47,
   "id": "4e8abb6c",
   "metadata": {},
   "outputs": [
    {
     "data": {
      "text/plain": [
       "Brand                     0\n",
       "Price(In_Rupees)          0\n",
       "Discount in percentage    0\n",
       "Rating                    0\n",
       "Shipping_Charge           0\n",
       "Color                     0\n",
       "Channel                   0\n",
       "dtype: int64"
      ]
     },
     "execution_count": 47,
     "metadata": {},
     "output_type": "execute_result"
    }
   ],
   "source": [
    "df.isna().sum()"
   ]
  },
  {
   "cell_type": "code",
   "execution_count": 40,
   "id": "7b9579e1",
   "metadata": {},
   "outputs": [],
   "source": [
    "#df.nunique()"
   ]
  },
  {
   "cell_type": "code",
   "execution_count": 48,
   "id": "1b35f278",
   "metadata": {},
   "outputs": [
    {
     "data": {
      "text/plain": [
       "Index(['Brand', 'Price(In_Rupees)', 'Discount in percentage', 'Rating',\n",
       "       'Shipping_Charge', 'Color', 'Channel'],\n",
       "      dtype='object')"
      ]
     },
     "execution_count": 48,
     "metadata": {},
     "output_type": "execute_result"
    }
   ],
   "source": [
    "df.columns"
   ]
  },
  {
   "cell_type": "code",
   "execution_count": 49,
   "id": "431d08eb",
   "metadata": {},
   "outputs": [
    {
     "data": {
      "text/html": [
       "<div>\n",
       "<style scoped>\n",
       "    .dataframe tbody tr th:only-of-type {\n",
       "        vertical-align: middle;\n",
       "    }\n",
       "\n",
       "    .dataframe tbody tr th {\n",
       "        vertical-align: top;\n",
       "    }\n",
       "\n",
       "    .dataframe thead th {\n",
       "        text-align: right;\n",
       "    }\n",
       "</style>\n",
       "<table border=\"1\" class=\"dataframe\">\n",
       "  <thead>\n",
       "    <tr style=\"text-align: right;\">\n",
       "      <th></th>\n",
       "      <th>Brand</th>\n",
       "      <th>Price(In_Rupees)</th>\n",
       "      <th>Discount in percentage</th>\n",
       "      <th>Rating</th>\n",
       "      <th>Shipping_Charge</th>\n",
       "      <th>Color</th>\n",
       "      <th>Channel</th>\n",
       "    </tr>\n",
       "  </thead>\n",
       "  <tbody>\n",
       "    <tr>\n",
       "      <th>0</th>\n",
       "      <td>boAt</td>\n",
       "      <td>2499</td>\n",
       "      <td>64</td>\n",
       "      <td>4.4</td>\n",
       "      <td>Free delivery</td>\n",
       "      <td>Navy</td>\n",
       "      <td>Stereo Channel</td>\n",
       "    </tr>\n",
       "    <tr>\n",
       "      <th>1</th>\n",
       "      <td>boAt</td>\n",
       "      <td>4499</td>\n",
       "      <td>43</td>\n",
       "      <td>4.0</td>\n",
       "      <td>Free delivery</td>\n",
       "      <td>Red</td>\n",
       "      <td>Stereo Channel</td>\n",
       "    </tr>\n",
       "    <tr>\n",
       "      <th>2</th>\n",
       "      <td>I-kallntex</td>\n",
       "      <td>2599</td>\n",
       "      <td>13</td>\n",
       "      <td>3.8</td>\n",
       "      <td>Free delivery</td>\n",
       "      <td>Black</td>\n",
       "      <td>4.1 Channel</td>\n",
       "    </tr>\n",
       "    <tr>\n",
       "      <th>3</th>\n",
       "      <td>boAt</td>\n",
       "      <td>1299</td>\n",
       "      <td>56</td>\n",
       "      <td>4.4</td>\n",
       "      <td>Free delivery</td>\n",
       "      <td>Blue</td>\n",
       "      <td>Stereo Channel</td>\n",
       "    </tr>\n",
       "    <tr>\n",
       "      <th>4</th>\n",
       "      <td>Mivi</td>\n",
       "      <td>849</td>\n",
       "      <td>57</td>\n",
       "      <td>4.2</td>\n",
       "      <td>Free delivery</td>\n",
       "      <td>Blue</td>\n",
       "      <td>Mono Channel</td>\n",
       "    </tr>\n",
       "  </tbody>\n",
       "</table>\n",
       "</div>"
      ],
      "text/plain": [
       "        Brand  Price(In_Rupees)  Discount in percentage  Rating  \\\n",
       "0        boAt              2499                      64     4.4   \n",
       "1        boAt              4499                      43     4.0   \n",
       "2  I-kallntex              2599                      13     3.8   \n",
       "3        boAt              1299                      56     4.4   \n",
       "4        Mivi               849                      57     4.2   \n",
       "\n",
       "  Shipping_Charge  Color         Channel  \n",
       "0   Free delivery   Navy  Stereo Channel  \n",
       "1   Free delivery    Red  Stereo Channel  \n",
       "2   Free delivery  Black     4.1 Channel  \n",
       "3   Free delivery   Blue  Stereo Channel  \n",
       "4   Free delivery   Blue    Mono Channel  "
      ]
     },
     "execution_count": 49,
     "metadata": {},
     "output_type": "execute_result"
    }
   ],
   "source": [
    "df.head()"
   ]
  },
  {
   "cell_type": "code",
   "execution_count": 50,
   "id": "5febde7e",
   "metadata": {},
   "outputs": [
    {
     "data": {
      "text/html": [
       "<div>\n",
       "<style scoped>\n",
       "    .dataframe tbody tr th:only-of-type {\n",
       "        vertical-align: middle;\n",
       "    }\n",
       "\n",
       "    .dataframe tbody tr th {\n",
       "        vertical-align: top;\n",
       "    }\n",
       "\n",
       "    .dataframe thead th {\n",
       "        text-align: right;\n",
       "    }\n",
       "</style>\n",
       "<table border=\"1\" class=\"dataframe\">\n",
       "  <thead>\n",
       "    <tr style=\"text-align: right;\">\n",
       "      <th></th>\n",
       "      <th>Brand</th>\n",
       "      <th>Price(In_Rupees)</th>\n",
       "      <th>Discount in percentage</th>\n",
       "      <th>Rating</th>\n",
       "      <th>Shipping_Charge</th>\n",
       "      <th>Color</th>\n",
       "      <th>Channel</th>\n",
       "    </tr>\n",
       "  </thead>\n",
       "  <tbody>\n",
       "    <tr>\n",
       "      <th>1955</th>\n",
       "      <td>ZEBRONI-kallCS</td>\n",
       "      <td>1999</td>\n",
       "      <td>42</td>\n",
       "      <td>4.0</td>\n",
       "      <td>Free delivery</td>\n",
       "      <td>Black</td>\n",
       "      <td>Stereo Channel</td>\n",
       "    </tr>\n",
       "    <tr>\n",
       "      <th>1956</th>\n",
       "      <td>boAt</td>\n",
       "      <td>3999</td>\n",
       "      <td>42</td>\n",
       "      <td>4.4</td>\n",
       "      <td>Free delivery</td>\n",
       "      <td>Black</td>\n",
       "      <td>Stereo Channel</td>\n",
       "    </tr>\n",
       "    <tr>\n",
       "      <th>1957</th>\n",
       "      <td>etmax</td>\n",
       "      <td>997</td>\n",
       "      <td>56</td>\n",
       "      <td>3.8</td>\n",
       "      <td>Free delivery</td>\n",
       "      <td>Black</td>\n",
       "      <td>Stereo Channel</td>\n",
       "    </tr>\n",
       "    <tr>\n",
       "      <th>1958</th>\n",
       "      <td>boAt</td>\n",
       "      <td>1999</td>\n",
       "      <td>33</td>\n",
       "      <td>4.0</td>\n",
       "      <td>Free delivery</td>\n",
       "      <td>Black</td>\n",
       "      <td>Stereo Channel</td>\n",
       "    </tr>\n",
       "    <tr>\n",
       "      <th>1959</th>\n",
       "      <td>KSD</td>\n",
       "      <td>989</td>\n",
       "      <td>50</td>\n",
       "      <td>3.8</td>\n",
       "      <td>Free delivery</td>\n",
       "      <td>Black</td>\n",
       "      <td>5.0 Channel</td>\n",
       "    </tr>\n",
       "  </tbody>\n",
       "</table>\n",
       "</div>"
      ],
      "text/plain": [
       "               Brand  Price(In_Rupees)  Discount in percentage  Rating  \\\n",
       "1955  ZEBRONI-kallCS              1999                      42     4.0   \n",
       "1956            boAt              3999                      42     4.4   \n",
       "1957           etmax               997                      56     3.8   \n",
       "1958            boAt              1999                      33     4.0   \n",
       "1959             KSD               989                      50     3.8   \n",
       "\n",
       "     Shipping_Charge  Color         Channel  \n",
       "1955   Free delivery  Black  Stereo Channel  \n",
       "1956   Free delivery  Black  Stereo Channel  \n",
       "1957   Free delivery  Black  Stereo Channel  \n",
       "1958   Free delivery  Black  Stereo Channel  \n",
       "1959   Free delivery  Black     5.0 Channel  "
      ]
     },
     "execution_count": 50,
     "metadata": {},
     "output_type": "execute_result"
    }
   ],
   "source": [
    "df.tail()"
   ]
  },
  {
   "cell_type": "code",
   "execution_count": 51,
   "id": "84092b78",
   "metadata": {},
   "outputs": [
    {
     "data": {
      "text/html": [
       "<div>\n",
       "<style scoped>\n",
       "    .dataframe tbody tr th:only-of-type {\n",
       "        vertical-align: middle;\n",
       "    }\n",
       "\n",
       "    .dataframe tbody tr th {\n",
       "        vertical-align: top;\n",
       "    }\n",
       "\n",
       "    .dataframe thead th {\n",
       "        text-align: right;\n",
       "    }\n",
       "</style>\n",
       "<table border=\"1\" class=\"dataframe\">\n",
       "  <thead>\n",
       "    <tr style=\"text-align: right;\">\n",
       "      <th></th>\n",
       "      <th>Price(In_Rupees)</th>\n",
       "      <th>Discount in percentage</th>\n",
       "      <th>Rating</th>\n",
       "    </tr>\n",
       "  </thead>\n",
       "  <tbody>\n",
       "    <tr>\n",
       "      <th>count</th>\n",
       "      <td>1960.000000</td>\n",
       "      <td>1960.000000</td>\n",
       "      <td>1960.000000</td>\n",
       "    </tr>\n",
       "    <tr>\n",
       "      <th>mean</th>\n",
       "      <td>2179.765306</td>\n",
       "      <td>49.589796</td>\n",
       "      <td>4.136633</td>\n",
       "    </tr>\n",
       "    <tr>\n",
       "      <th>std</th>\n",
       "      <td>1777.029402</td>\n",
       "      <td>13.821996</td>\n",
       "      <td>0.240925</td>\n",
       "    </tr>\n",
       "    <tr>\n",
       "      <th>min</th>\n",
       "      <td>379.000000</td>\n",
       "      <td>13.000000</td>\n",
       "      <td>3.000000</td>\n",
       "    </tr>\n",
       "    <tr>\n",
       "      <th>25%</th>\n",
       "      <td>989.000000</td>\n",
       "      <td>42.000000</td>\n",
       "      <td>4.000000</td>\n",
       "    </tr>\n",
       "    <tr>\n",
       "      <th>50%</th>\n",
       "      <td>1699.000000</td>\n",
       "      <td>50.000000</td>\n",
       "      <td>4.200000</td>\n",
       "    </tr>\n",
       "    <tr>\n",
       "      <th>75%</th>\n",
       "      <td>2999.000000</td>\n",
       "      <td>56.000000</td>\n",
       "      <td>4.300000</td>\n",
       "    </tr>\n",
       "    <tr>\n",
       "      <th>max</th>\n",
       "      <td>9999.000000</td>\n",
       "      <td>83.000000</td>\n",
       "      <td>4.700000</td>\n",
       "    </tr>\n",
       "  </tbody>\n",
       "</table>\n",
       "</div>"
      ],
      "text/plain": [
       "       Price(In_Rupees)  Discount in percentage       Rating\n",
       "count       1960.000000             1960.000000  1960.000000\n",
       "mean        2179.765306               49.589796     4.136633\n",
       "std         1777.029402               13.821996     0.240925\n",
       "min          379.000000               13.000000     3.000000\n",
       "25%          989.000000               42.000000     4.000000\n",
       "50%         1699.000000               50.000000     4.200000\n",
       "75%         2999.000000               56.000000     4.300000\n",
       "max         9999.000000               83.000000     4.700000"
      ]
     },
     "execution_count": 51,
     "metadata": {},
     "output_type": "execute_result"
    }
   ],
   "source": [
    "df.describe()"
   ]
  },
  {
   "cell_type": "code",
   "execution_count": 52,
   "id": "98b4dc3a",
   "metadata": {},
   "outputs": [
    {
     "data": {
      "text/plain": [
       "(1960, 7)"
      ]
     },
     "execution_count": 52,
     "metadata": {},
     "output_type": "execute_result"
    }
   ],
   "source": [
    "df.shape"
   ]
  },
  {
   "cell_type": "markdown",
   "id": "1bce7996",
   "metadata": {},
   "source": [
    "#### Checking unique values present in column - 'Brand'."
   ]
  },
  {
   "cell_type": "code",
   "execution_count": 53,
   "id": "8338cef9",
   "metadata": {},
   "outputs": [
    {
     "data": {
      "text/plain": [
       "array(['boAt', 'I-kallntex', 'Mivi', 'etmax', 'Ferons', 'Wings', 'fire',\n",
       "       'ZEBRONI-kallCS', 'Runixx', 'I-kall', 'Gizmore', 'JBL', 'Choose',\n",
       "       'ghar', 'Google', 'Vox', 'reason', 'NEFerons', 'PHI-kallLI-kallPS',\n",
       "       'JOKI-kallN', 'KSD', 'Zavia', 'Tiger', 'Happysome', 'BUNAS'],\n",
       "      dtype=object)"
      ]
     },
     "execution_count": 53,
     "metadata": {},
     "output_type": "execute_result"
    }
   ],
   "source": [
    "df['Brand'].unique()"
   ]
  },
  {
   "cell_type": "markdown",
   "id": "d7a4d819",
   "metadata": {},
   "source": [
    "#### Checking count of total values present in column - 'Brand'."
   ]
  },
  {
   "cell_type": "code",
   "execution_count": 54,
   "id": "48e98f7b",
   "metadata": {},
   "outputs": [
    {
     "data": {
      "text/plain": [
       "boAt                 490\n",
       "Mivi                 273\n",
       "ZEBRONI-kallCS       251\n",
       "Gizmore              149\n",
       "Ferons               147\n",
       "JBL                  119\n",
       "etmax                 70\n",
       "I-kall                51\n",
       "I-kallntex            49\n",
       "Vox                   49\n",
       "fire                  31\n",
       "Google                28\n",
       "Choose                28\n",
       "Wings                 28\n",
       "ghar                  26\n",
       "Runixx                25\n",
       "reason                24\n",
       "Zavia                 24\n",
       "PHI-kallLI-kallPS     21\n",
       "JOKI-kallN            21\n",
       "KSD                   17\n",
       "BUNAS                 17\n",
       "NEFerons              13\n",
       "Happysome              5\n",
       "Tiger                  4\n",
       "Name: Brand, dtype: int64"
      ]
     },
     "execution_count": 54,
     "metadata": {},
     "output_type": "execute_result"
    }
   ],
   "source": [
    "df['Brand'].value_counts()"
   ]
  },
  {
   "cell_type": "code",
   "execution_count": 55,
   "id": "94ea11f5",
   "metadata": {},
   "outputs": [
    {
     "data": {
      "text/plain": [
       "array(['Free delivery', 'Bank Offer'], dtype=object)"
      ]
     },
     "execution_count": 55,
     "metadata": {},
     "output_type": "execute_result"
    }
   ],
   "source": [
    "df['Shipping_Charge'].unique()"
   ]
  },
  {
   "cell_type": "code",
   "execution_count": 56,
   "id": "6218e9aa",
   "metadata": {},
   "outputs": [
    {
     "data": {
      "text/plain": [
       "Free delivery    1911\n",
       "Bank Offer         49\n",
       "Name: Shipping_Charge, dtype: int64"
      ]
     },
     "execution_count": 56,
     "metadata": {},
     "output_type": "execute_result"
    }
   ],
   "source": [
    "df['Shipping_Charge'].value_counts()"
   ]
  },
  {
   "cell_type": "code",
   "execution_count": 57,
   "id": "e4372b07",
   "metadata": {},
   "outputs": [
    {
     "data": {
      "text/plain": [
       "array(['Navy', 'Red', 'Black', 'Blue', 'Premium', 'Multicolor', 'Space',\n",
       "       'Green', 'Rampant', 'Charcoal', 'Grey', 'Light', 'Army'],\n",
       "      dtype=object)"
      ]
     },
     "execution_count": 57,
     "metadata": {},
     "output_type": "execute_result"
    }
   ],
   "source": [
    "df['Color'].unique()"
   ]
  },
  {
   "cell_type": "code",
   "execution_count": 58,
   "id": "59846a71",
   "metadata": {},
   "outputs": [
    {
     "data": {
      "text/plain": [
       "Black         1288\n",
       "Blue           189\n",
       "Red            132\n",
       "Premium         70\n",
       "Space           49\n",
       "Green           49\n",
       "Grey            49\n",
       "Multicolor      32\n",
       "Navy            28\n",
       "Rampant         28\n",
       "Charcoal        28\n",
       "Light           13\n",
       "Army             5\n",
       "Name: Color, dtype: int64"
      ]
     },
     "execution_count": 58,
     "metadata": {},
     "output_type": "execute_result"
    }
   ],
   "source": [
    "df['Color'].value_counts()"
   ]
  },
  {
   "cell_type": "code",
   "execution_count": 59,
   "id": "f89deaa8",
   "metadata": {},
   "outputs": [
    {
     "data": {
      "text/plain": [
       "array(['Stereo Channel', '4.1 Channel', 'Mono Channel', '2.1 Channel',\n",
       "       '2.0 Channel', '2.2 Channel', '7.1 Channel', 'random color',\n",
       "       '5.2 Channel', '5.0 Channel'], dtype=object)"
      ]
     },
     "execution_count": 59,
     "metadata": {},
     "output_type": "execute_result"
    }
   ],
   "source": [
    "df['Channel'].unique()"
   ]
  },
  {
   "cell_type": "code",
   "execution_count": 85,
   "id": "1d2e4506",
   "metadata": {},
   "outputs": [],
   "source": [
    "df = df[df.Channel!='random color']"
   ]
  },
  {
   "cell_type": "code",
   "execution_count": 89,
   "id": "8cbdcf09",
   "metadata": {},
   "outputs": [
    {
     "data": {
      "text/plain": [
       "Stereo Channel    927\n",
       "Mono Channel      315\n",
       "2.0 Channel       238\n",
       "2.1 Channel       140\n",
       "2.2 Channel        98\n",
       "7.1 Channel        98\n",
       "4.1 Channel        77\n",
       "5.2 Channel        24\n",
       "5.0 Channel        17\n",
       "Name: Channel, dtype: int64"
      ]
     },
     "execution_count": 89,
     "metadata": {},
     "output_type": "execute_result"
    }
   ],
   "source": [
    "df['Channel'].value_counts()"
   ]
  },
  {
   "cell_type": "code",
   "execution_count": 90,
   "id": "2fddf93f",
   "metadata": {},
   "outputs": [
    {
     "data": {
      "text/plain": [
       "4.2    485\n",
       "4.4    346\n",
       "4.3    333\n",
       "3.9    196\n",
       "4.0    191\n",
       "3.8    164\n",
       "4.1    132\n",
       "3.6     49\n",
       "4.7     20\n",
       "3.0     13\n",
       "3.1      5\n",
       "Name: Rating, dtype: int64"
      ]
     },
     "execution_count": 90,
     "metadata": {},
     "output_type": "execute_result"
    }
   ],
   "source": [
    "df['Rating'].value_counts()"
   ]
  },
  {
   "cell_type": "markdown",
   "id": "a6fd9f93",
   "metadata": {},
   "source": [
    "#### Extracting categorical columns: "
   ]
  },
  {
   "cell_type": "code",
   "execution_count": 63,
   "id": "d08d56c6",
   "metadata": {},
   "outputs": [
    {
     "data": {
      "text/html": [
       "<div>\n",
       "<style scoped>\n",
       "    .dataframe tbody tr th:only-of-type {\n",
       "        vertical-align: middle;\n",
       "    }\n",
       "\n",
       "    .dataframe tbody tr th {\n",
       "        vertical-align: top;\n",
       "    }\n",
       "\n",
       "    .dataframe thead th {\n",
       "        text-align: right;\n",
       "    }\n",
       "</style>\n",
       "<table border=\"1\" class=\"dataframe\">\n",
       "  <thead>\n",
       "    <tr style=\"text-align: right;\">\n",
       "      <th></th>\n",
       "      <th>Brand</th>\n",
       "      <th>Shipping_Charge</th>\n",
       "      <th>Color</th>\n",
       "      <th>Channel</th>\n",
       "    </tr>\n",
       "  </thead>\n",
       "  <tbody>\n",
       "    <tr>\n",
       "      <th>0</th>\n",
       "      <td>boAt</td>\n",
       "      <td>Free delivery</td>\n",
       "      <td>Navy</td>\n",
       "      <td>Stereo Channel</td>\n",
       "    </tr>\n",
       "    <tr>\n",
       "      <th>1</th>\n",
       "      <td>boAt</td>\n",
       "      <td>Free delivery</td>\n",
       "      <td>Red</td>\n",
       "      <td>Stereo Channel</td>\n",
       "    </tr>\n",
       "    <tr>\n",
       "      <th>2</th>\n",
       "      <td>I-kallntex</td>\n",
       "      <td>Free delivery</td>\n",
       "      <td>Black</td>\n",
       "      <td>4.1 Channel</td>\n",
       "    </tr>\n",
       "    <tr>\n",
       "      <th>3</th>\n",
       "      <td>boAt</td>\n",
       "      <td>Free delivery</td>\n",
       "      <td>Blue</td>\n",
       "      <td>Stereo Channel</td>\n",
       "    </tr>\n",
       "    <tr>\n",
       "      <th>4</th>\n",
       "      <td>Mivi</td>\n",
       "      <td>Free delivery</td>\n",
       "      <td>Blue</td>\n",
       "      <td>Mono Channel</td>\n",
       "    </tr>\n",
       "    <tr>\n",
       "      <th>...</th>\n",
       "      <td>...</td>\n",
       "      <td>...</td>\n",
       "      <td>...</td>\n",
       "      <td>...</td>\n",
       "    </tr>\n",
       "    <tr>\n",
       "      <th>1955</th>\n",
       "      <td>ZEBRONI-kallCS</td>\n",
       "      <td>Free delivery</td>\n",
       "      <td>Black</td>\n",
       "      <td>Stereo Channel</td>\n",
       "    </tr>\n",
       "    <tr>\n",
       "      <th>1956</th>\n",
       "      <td>boAt</td>\n",
       "      <td>Free delivery</td>\n",
       "      <td>Black</td>\n",
       "      <td>Stereo Channel</td>\n",
       "    </tr>\n",
       "    <tr>\n",
       "      <th>1957</th>\n",
       "      <td>etmax</td>\n",
       "      <td>Free delivery</td>\n",
       "      <td>Black</td>\n",
       "      <td>Stereo Channel</td>\n",
       "    </tr>\n",
       "    <tr>\n",
       "      <th>1958</th>\n",
       "      <td>boAt</td>\n",
       "      <td>Free delivery</td>\n",
       "      <td>Black</td>\n",
       "      <td>Stereo Channel</td>\n",
       "    </tr>\n",
       "    <tr>\n",
       "      <th>1959</th>\n",
       "      <td>KSD</td>\n",
       "      <td>Free delivery</td>\n",
       "      <td>Black</td>\n",
       "      <td>5.0 Channel</td>\n",
       "    </tr>\n",
       "  </tbody>\n",
       "</table>\n",
       "<p>1960 rows × 4 columns</p>\n",
       "</div>"
      ],
      "text/plain": [
       "               Brand Shipping_Charge  Color         Channel\n",
       "0               boAt   Free delivery   Navy  Stereo Channel\n",
       "1               boAt   Free delivery    Red  Stereo Channel\n",
       "2         I-kallntex   Free delivery  Black     4.1 Channel\n",
       "3               boAt   Free delivery   Blue  Stereo Channel\n",
       "4               Mivi   Free delivery   Blue    Mono Channel\n",
       "...              ...             ...    ...             ...\n",
       "1955  ZEBRONI-kallCS   Free delivery  Black  Stereo Channel\n",
       "1956            boAt   Free delivery  Black  Stereo Channel\n",
       "1957           etmax   Free delivery  Black  Stereo Channel\n",
       "1958            boAt   Free delivery  Black  Stereo Channel\n",
       "1959             KSD   Free delivery  Black     5.0 Channel\n",
       "\n",
       "[1960 rows x 4 columns]"
      ]
     },
     "execution_count": 63,
     "metadata": {},
     "output_type": "execute_result"
    }
   ],
   "source": [
    "a = df.select_dtypes(exclude='number')\n",
    "a"
   ]
  },
  {
   "cell_type": "markdown",
   "id": "4c4ef389",
   "metadata": {},
   "source": [
    "#### Extracting numerical columns :"
   ]
  },
  {
   "cell_type": "code",
   "execution_count": 64,
   "id": "b4d95449",
   "metadata": {},
   "outputs": [
    {
     "data": {
      "text/html": [
       "<div>\n",
       "<style scoped>\n",
       "    .dataframe tbody tr th:only-of-type {\n",
       "        vertical-align: middle;\n",
       "    }\n",
       "\n",
       "    .dataframe tbody tr th {\n",
       "        vertical-align: top;\n",
       "    }\n",
       "\n",
       "    .dataframe thead th {\n",
       "        text-align: right;\n",
       "    }\n",
       "</style>\n",
       "<table border=\"1\" class=\"dataframe\">\n",
       "  <thead>\n",
       "    <tr style=\"text-align: right;\">\n",
       "      <th></th>\n",
       "      <th>Price(In_Rupees)</th>\n",
       "      <th>Discount in percentage</th>\n",
       "      <th>Rating</th>\n",
       "    </tr>\n",
       "  </thead>\n",
       "  <tbody>\n",
       "    <tr>\n",
       "      <th>0</th>\n",
       "      <td>2499</td>\n",
       "      <td>64</td>\n",
       "      <td>4.4</td>\n",
       "    </tr>\n",
       "    <tr>\n",
       "      <th>1</th>\n",
       "      <td>4499</td>\n",
       "      <td>43</td>\n",
       "      <td>4.0</td>\n",
       "    </tr>\n",
       "    <tr>\n",
       "      <th>2</th>\n",
       "      <td>2599</td>\n",
       "      <td>13</td>\n",
       "      <td>3.8</td>\n",
       "    </tr>\n",
       "    <tr>\n",
       "      <th>3</th>\n",
       "      <td>1299</td>\n",
       "      <td>56</td>\n",
       "      <td>4.4</td>\n",
       "    </tr>\n",
       "    <tr>\n",
       "      <th>4</th>\n",
       "      <td>849</td>\n",
       "      <td>57</td>\n",
       "      <td>4.2</td>\n",
       "    </tr>\n",
       "    <tr>\n",
       "      <th>...</th>\n",
       "      <td>...</td>\n",
       "      <td>...</td>\n",
       "      <td>...</td>\n",
       "    </tr>\n",
       "    <tr>\n",
       "      <th>1955</th>\n",
       "      <td>1999</td>\n",
       "      <td>42</td>\n",
       "      <td>4.0</td>\n",
       "    </tr>\n",
       "    <tr>\n",
       "      <th>1956</th>\n",
       "      <td>3999</td>\n",
       "      <td>42</td>\n",
       "      <td>4.4</td>\n",
       "    </tr>\n",
       "    <tr>\n",
       "      <th>1957</th>\n",
       "      <td>997</td>\n",
       "      <td>56</td>\n",
       "      <td>3.8</td>\n",
       "    </tr>\n",
       "    <tr>\n",
       "      <th>1958</th>\n",
       "      <td>1999</td>\n",
       "      <td>33</td>\n",
       "      <td>4.0</td>\n",
       "    </tr>\n",
       "    <tr>\n",
       "      <th>1959</th>\n",
       "      <td>989</td>\n",
       "      <td>50</td>\n",
       "      <td>3.8</td>\n",
       "    </tr>\n",
       "  </tbody>\n",
       "</table>\n",
       "<p>1960 rows × 3 columns</p>\n",
       "</div>"
      ],
      "text/plain": [
       "      Price(In_Rupees)  Discount in percentage  Rating\n",
       "0                 2499                      64     4.4\n",
       "1                 4499                      43     4.0\n",
       "2                 2599                      13     3.8\n",
       "3                 1299                      56     4.4\n",
       "4                  849                      57     4.2\n",
       "...                ...                     ...     ...\n",
       "1955              1999                      42     4.0\n",
       "1956              3999                      42     4.4\n",
       "1957               997                      56     3.8\n",
       "1958              1999                      33     4.0\n",
       "1959               989                      50     3.8\n",
       "\n",
       "[1960 rows x 3 columns]"
      ]
     },
     "execution_count": 64,
     "metadata": {},
     "output_type": "execute_result"
    }
   ],
   "source": [
    "s=df.select_dtypes(include='number')\n",
    "s"
   ]
  },
  {
   "cell_type": "markdown",
   "id": "c9b37c0f",
   "metadata": {},
   "source": [
    "## Univaraite Analysis:"
   ]
  },
  {
   "cell_type": "markdown",
   "id": "f7034485",
   "metadata": {},
   "source": [
    "### Numerical"
   ]
  },
  {
   "cell_type": "code",
   "execution_count": 66,
   "id": "76d9f5e0",
   "metadata": {},
   "outputs": [
    {
     "name": "stderr",
     "output_type": "stream",
     "text": [
      "C:\\Users\\dell\\anaconda3\\lib\\site-packages\\seaborn\\distributions.py:2619: FutureWarning: `distplot` is a deprecated function and will be removed in a future version. Please adapt your code to use either `displot` (a figure-level function with similar flexibility) or `histplot` (an axes-level function for histograms).\n",
      "  warnings.warn(msg, FutureWarning)\n"
     ]
    },
    {
     "data": {
      "image/png": "[encoded data removed]",
      "text/plain": [
       "<Figure size 432x288 with 1 Axes>"
      ]
     },
     "metadata": {
      "needs_background": "light"
     },
     "output_type": "display_data"
    }
   ],
   "source": [
    "sns.distplot(df['Price(In_Rupees)'],kde=True)\n",
    "plt.title('Increament of Price in distplot')\n",
    "plt.show()"
   ]
  },
  {
   "cell_type": "markdown",
   "id": "42d4cba2",
   "metadata": {},
   "source": [
    "## Observation:\n",
    "### This distplot shows an output that most of the 'Speakers' price increment ranges from 0 - 5000 and maximum price of speaker range is between 500 to 2000\n"
   ]
  },
  {
   "cell_type": "code",
   "execution_count": 68,
   "id": "893399f6",
   "metadata": {},
   "outputs": [
    {
     "data": {
      "image/png": "[encoded data removed]",
      "text/plain": [
       "<Figure size 432x288 with 1 Axes>"
      ]
     },
     "metadata": {
      "needs_background": "light"
     },
     "output_type": "display_data"
    }
   ],
   "source": [
    "plt.hist(df['Discount in percentage'],bins = 10, edgecolor = 'black')\n",
    "plt.title(\"Distribution of Discount\")\n",
    "plt.xlabel(\"Discount\")\n",
    "plt.ylabel(\"Frequency\")\n",
    "plt.show()\n"
   ]
  },
  {
   "cell_type": "markdown",
   "id": "cd5cf58d",
   "metadata": {},
   "source": [
    "## Observation\n",
    "### The  most of the product has 50% discount in prices."
   ]
  },
  {
   "cell_type": "code",
   "execution_count": 69,
   "id": "0b77ee5d",
   "metadata": {},
   "outputs": [
    {
     "name": "stderr",
     "output_type": "stream",
     "text": [
      "C:\\Users\\dell\\anaconda3\\lib\\site-packages\\seaborn\\_decorators.py:36: FutureWarning: Pass the following variable as a keyword arg: x. From version 0.12, the only valid positional argument will be `data`, and passing other arguments without an explicit keyword will result in an error or misinterpretation.\n",
      "  warnings.warn(\n"
     ]
    },
    {
     "data": {
      "image/png": "[encoded data removed]",
      "text/plain": [
       "<Figure size 432x288 with 1 Axes>"
      ]
     },
     "metadata": {
      "needs_background": "light"
     },
     "output_type": "display_data"
    }
   ],
   "source": [
    "\n",
    "plt.title('Distribution of Prices')\n",
    "plt.ylabel(\"Density\")\n",
    "sns.violinplot(df['Price(In_Rupees)'])\n",
    "plt.show()"
   ]
  },
  {
   "cell_type": "markdown",
   "id": "93922468",
   "metadata": {},
   "source": [
    "### Observation:  The most of the prices is between 700 - 5000\n"
   ]
  },
  {
   "cell_type": "code",
   "execution_count": 70,
   "id": "1b2da496",
   "metadata": {},
   "outputs": [
    {
     "name": "stderr",
     "output_type": "stream",
     "text": [
      "C:\\Users\\dell\\anaconda3\\lib\\site-packages\\seaborn\\_decorators.py:36: FutureWarning: Pass the following variable as a keyword arg: x. From version 0.12, the only valid positional argument will be `data`, and passing other arguments without an explicit keyword will result in an error or misinterpretation.\n",
      "  warnings.warn(\n",
      "C:\\Users\\dell\\anaconda3\\lib\\site-packages\\seaborn\\_core.py:1326: UserWarning: Vertical orientation ignored with only `x` specified.\n",
      "  warnings.warn(single_var_warning.format(\"Vertical\", \"x\"))\n"
     ]
    },
    {
     "data": {
      "image/png": "[encoded data removed]",
      "text/plain": [
       "<Figure size 432x288 with 1 Axes>"
      ]
     },
     "metadata": {
      "needs_background": "light"
     },
     "output_type": "display_data"
    }
   ],
   "source": [
    "sns.boxplot(df['Rating'],orient = 'v')\n",
    "plt.show()"
   ]
  },
  {
   "cell_type": "markdown",
   "id": "5b1a9c18",
   "metadata": {},
   "source": [
    "## Observation\n",
    "### This boxplot output represents that 'Rating' has an outliers."
   ]
  },
  {
   "cell_type": "code",
   "execution_count": 71,
   "id": "a136d388",
   "metadata": {},
   "outputs": [
    {
     "data": {
      "image/png": "[encoded data removed]",
      "text/plain": [
       "<Figure size 432x432 with 1 Axes>"
      ]
     },
     "metadata": {},
     "output_type": "display_data"
    }
   ],
   "source": [
    "plt.figure(figsize=(6,6))\n",
    "df[\"Channel\"].value_counts().plot.pie(autopct=\"%.2f%%\")\n",
    "plt.title(\"Channel Points\")\n",
    "plt.show()"
   ]
  },
  {
   "cell_type": "markdown",
   "id": "5fdad00e",
   "metadata": {},
   "source": [
    "## Observation: \n",
    " ### Pie chart represents that, channel stereo has high percentage 47.30%."
   ]
  },
  {
   "cell_type": "markdown",
   "id": "3e0b5775",
   "metadata": {},
   "source": [
    "### categorical:"
   ]
  },
  {
   "cell_type": "code",
   "execution_count": 91,
   "id": "659e7c21",
   "metadata": {},
   "outputs": [
    {
     "data": {
      "image/png": "[encoded data removed]",
      "text/plain": [
       "<Figure size 720x360 with 1 Axes>"
      ]
     },
     "metadata": {
      "needs_background": "light"
     },
     "output_type": "display_data"
    }
   ],
   "source": [
    "plt.figure(figsize =(10,5))\n",
    "\n",
    "sns.countplot(x = 'Channel',data = df)\n",
    "plt.title('Data collection of Channels')\n",
    "plt.xlabel('Name of channels')\n",
    "plt.ylabel('Frequency')\n",
    "plt.xticks(rotation = 90)\n",
    "plt.yticks(rotation = 90)\n",
    "plt.show()"
   ]
  },
  {
   "cell_type": "markdown",
   "id": "4ed54915",
   "metadata": {},
   "source": [
    "## Observation\n",
    "### From this bargraph Stereo channel has more frequency above 800 and 4.1, 5.2,5.0 channels has frequency below 100 ."
   ]
  },
  {
   "cell_type": "code",
   "execution_count": 92,
   "id": "35b446eb",
   "metadata": {},
   "outputs": [
    {
     "data": {
      "image/png": "[encoded data removed]",
      "text/plain": [
       "<Figure size 1080x720 with 1 Axes>"
      ]
     },
     "metadata": {
      "needs_background": "light"
     },
     "output_type": "display_data"
    }
   ],
   "source": [
    "plt.figure(figsize =(15,10))\n",
    "\n",
    "sns.countplot(x = 'Shipping_Charge',data = df)\n",
    "plt.title('Data collection of Shipping_Charge')\n",
    "\n",
    "plt.xticks(rotation = 90)\n",
    "plt.yticks(rotation = 90)\n",
    "plt.show()"
   ]
  },
  {
   "cell_type": "markdown",
   "id": "5fc9d0f7",
   "metadata": {},
   "source": [
    "## Observation:\n",
    "## In shipping- charge, free delivery has more count than bank offer."
   ]
  },
  {
   "cell_type": "code",
   "execution_count": 93,
   "id": "7466c8ac",
   "metadata": {},
   "outputs": [
    {
     "data": {
      "image/png": "[encoded data removed]",
      "text/plain": [
       "<Figure size 720x360 with 1 Axes>"
      ]
     },
     "metadata": {
      "needs_background": "light"
     },
     "output_type": "display_data"
    }
   ],
   "source": [
    "plt.figure(figsize =(10,5))\n",
    "\n",
    "sns.countplot(x = 'Brand',data = df)\n",
    "plt.title('Data collection of Brands')\n",
    "\n",
    "plt.xticks(rotation = 90)\n",
    "plt.yticks(rotation = 90)\n",
    "plt.show()"
   ]
  },
  {
   "cell_type": "markdown",
   "id": "64d81e0a",
   "metadata": {},
   "source": [
    "## Observation\n",
    "### This bargraph represents that brand 'boAt' has more number of count ."
   ]
  },
  {
   "cell_type": "code",
   "execution_count": null,
   "id": "42c54fb0",
   "metadata": {},
   "outputs": [],
   "source": []
  },
  {
   "cell_type": "markdown",
   "id": "106077b4",
   "metadata": {},
   "source": [
    "## Bi-variate Analysis"
   ]
  },
  {
   "cell_type": "markdown",
   "id": "eabd71ae",
   "metadata": {},
   "source": [
    "### Numerical - Numerical"
   ]
  },
  {
   "cell_type": "code",
   "execution_count": 94,
   "id": "8022af2f",
   "metadata": {},
   "outputs": [
    {
     "data": {
      "image/png": "[encoded data removed]",
      "text/plain": [
       "<Figure size 432x288 with 1 Axes>"
      ]
     },
     "metadata": {
      "needs_background": "light"
     },
     "output_type": "display_data"
    }
   ],
   "source": [
    "sns.scatterplot(x=df['Discount in percentage'],y=df['Price(In_Rupees)'],data=df)\n",
    "plt.title(\"Data collection of Price with discount\")\n",
    "\n",
    "plt.show()"
   ]
  },
  {
   "cell_type": "markdown",
   "id": "f4f18204",
   "metadata": {},
   "source": [
    "## Observation\n",
    "### The product prices is low when the discount offer is minimum, which is near to 30%. So, we can say that as price increases then the discount increases."
   ]
  },
  {
   "cell_type": "code",
   "execution_count": 98,
   "id": "47b26ca4",
   "metadata": {},
   "outputs": [],
   "source": [
    "w = df.select_dtypes(include='number')"
   ]
  },
  {
   "cell_type": "code",
   "execution_count": 100,
   "id": "6a6bcc90",
   "metadata": {},
   "outputs": [
    {
     "data": {
      "image/png": "[encoded data removed]",
      "text/plain": [
       "<Figure size 432x288 with 2 Axes>"
      ]
     },
     "metadata": {
      "needs_background": "light"
     },
     "output_type": "display_data"
    }
   ],
   "source": [
    "sns.heatmap(w.corr(),annot = True)\n",
    "plt.title(\"correlation b/w Numerical columns\")\n",
    "plt.show()"
   ]
  },
  {
   "cell_type": "markdown",
   "id": "6df5d500",
   "metadata": {},
   "source": [
    "## Observation \n",
    "### From this Heatmap we observe that as discount increases Price  decreases , there is a negative correlation"
   ]
  },
  {
   "cell_type": "markdown",
   "id": "e6b34d39",
   "metadata": {},
   "source": [
    "### Numerical - Categorical"
   ]
  },
  {
   "cell_type": "code",
   "execution_count": 102,
   "id": "343fa3fb",
   "metadata": {},
   "outputs": [
    {
     "data": {
      "image/png": "[encoded data removed]",
      "text/plain": [
       "<Figure size 720x360 with 1 Axes>"
      ]
     },
     "metadata": {
      "needs_background": "light"
     },
     "output_type": "display_data"
    }
   ],
   "source": [
    "plt.figure(figsize =(10,5))\n",
    "sns.barplot(x = 'Brand',y = 'Price(In_Rupees)', data = df)\n",
    "plt.title(\"Bar-chart for Brands \")\n",
    "plt.xticks(rotation = 90)\n",
    "plt.show()"
   ]
  },
  {
   "cell_type": "markdown",
   "id": "9c5f0753",
   "metadata": {},
   "source": [
    "## Observation\n",
    "### From this barchart we can observe that product of brand Google is more expensive than other brand."
   ]
  },
  {
   "cell_type": "code",
   "execution_count": 103,
   "id": "51dc0cc0",
   "metadata": {},
   "outputs": [
    {
     "data": {
      "image/png": "[encoded data removed]",
      "text/plain": [
       "<Figure size 432x288 with 1 Axes>"
      ]
     },
     "metadata": {
      "needs_background": "light"
     },
     "output_type": "display_data"
    }
   ],
   "source": [
    "sns.barplot(x = 'Color',y = 'Price(In_Rupees)', data = df)\n",
    "plt.title(\"Bar-chart for Color \")\n",
    "plt.xticks(rotation = 90)\n",
    "plt.show()"
   ]
  },
  {
   "cell_type": "markdown",
   "id": "b72c3fc7",
   "metadata": {},
   "source": [
    "## Observation:\n",
    "### From barplot we can say that color premium has highest price."
   ]
  },
  {
   "cell_type": "code",
   "execution_count": 104,
   "id": "a4f1b225",
   "metadata": {},
   "outputs": [
    {
     "data": {
      "image/png": "[encoded data removed]",
      "text/plain": [
       "<Figure size 432x288 with 1 Axes>"
      ]
     },
     "metadata": {
      "needs_background": "light"
     },
     "output_type": "display_data"
    }
   ],
   "source": [
    "sns.barplot(x = 'Channel',y = 'Rating', data = df)\n",
    "plt.title(\"Bar-chart for Channel \")\n",
    "plt.xticks(rotation = 90)\n",
    "plt.show()"
   ]
  },
  {
   "cell_type": "markdown",
   "id": "2f1e2730",
   "metadata": {},
   "source": [
    "## Observation:\n",
    "### Above plot shows an output that all the channel contains approximately same rating, and where 7.1 and 4.1 channel has rating below 4."
   ]
  },
  {
   "cell_type": "code",
   "execution_count": null,
   "id": "a9afd563",
   "metadata": {},
   "outputs": [],
   "source": []
  },
  {
   "cell_type": "markdown",
   "id": "640e41c6",
   "metadata": {},
   "source": [
    "### Categorical - Categorical (Bi-variate)"
   ]
  },
  {
   "cell_type": "code",
   "execution_count": 105,
   "id": "7c9085bf",
   "metadata": {},
   "outputs": [],
   "source": [
    "crosstab = pd.crosstab(df['Brand'],df['Channel'])\n",
    "#crosstab"
   ]
  },
  {
   "cell_type": "code",
   "execution_count": 107,
   "id": "3e3f5d0b",
   "metadata": {},
   "outputs": [
    {
     "data": {
      "text/plain": [
       "<Figure size 1440x1080 with 0 Axes>"
      ]
     },
     "metadata": {},
     "output_type": "display_data"
    },
    {
     "data": {
      "text/plain": [
       "<Figure size 1080x576 with 0 Axes>"
      ]
     },
     "metadata": {},
     "output_type": "display_data"
    },
    {
     "data": {
      "image/png": "[encoded data removed]",
      "text/plain": [
       "<Figure size 432x288 with 1 Axes>"
      ]
     },
     "metadata": {
      "needs_background": "light"
     },
     "output_type": "display_data"
    }
   ],
   "source": [
    "plt.figure(figsize =(20,15))\n",
    "plt.figure(figsize = (15,8))\n",
    "crosstab.plot(kind = 'bar',stacked = True)\n",
    "plt.title('Brand with different channels')\n",
    "plt.legend(bbox_to_anchor=(1,.8))\n",
    "plt.show()"
   ]
  },
  {
   "cell_type": "markdown",
   "id": "c16d6afb",
   "metadata": {},
   "source": [
    "## Observation: \n",
    "### Brand boAt and Mivi are offering 3 different types of channels, and brand Zebronic offers 4 types of channels."
   ]
  },
  {
   "cell_type": "markdown",
   "id": "3d2c3d34",
   "metadata": {},
   "source": [
    "## Multi-variate Analysis"
   ]
  },
  {
   "cell_type": "markdown",
   "id": "80d21270",
   "metadata": {},
   "source": [
    "### PairPlot"
   ]
  },
  {
   "cell_type": "code",
   "execution_count": 108,
   "id": "f3f35b9f",
   "metadata": {},
   "outputs": [
    {
     "data": {
      "image/png": "[encoded data removed]",
      "text/plain": [
       "<Figure size 640.5x540 with 12 Axes>"
      ]
     },
     "metadata": {
      "needs_background": "light"
     },
     "output_type": "display_data"
    }
   ],
   "source": [
    "sns.pairplot(data=df,hue = \"Shipping_Charge\")\n",
    "plt.title(\"Pair plot for Shipping\")\n",
    "plt.show()"
   ]
  },
  {
   "cell_type": "markdown",
   "id": "1ad39c59",
   "metadata": {},
   "source": [
    "### Scatter plot"
   ]
  },
  {
   "cell_type": "code",
   "execution_count": 114,
   "id": "0ee8807d",
   "metadata": {},
   "outputs": [
    {
     "data": {
      "image/png": "[encoded data removed]",
      "text/plain": [
       "<Figure size 432x288 with 1 Axes>"
      ]
     },
     "metadata": {
      "needs_background": "light"
     },
     "output_type": "display_data"
    },
    {
     "data": {
      "text/plain": [
       "<Figure size 1800x2160 with 0 Axes>"
      ]
     },
     "metadata": {},
     "output_type": "display_data"
    }
   ],
   "source": [
    "sns.scatterplot(x=df['Discount in percentage'],y=df['Price(In_Rupees)'],hue=df['Brand'],data=df)\n",
    "plt.xticks(rotation = 90)\n",
    "plt.figure(figsize=(25,30))\n",
    "plt.show()"
   ]
  },
  {
   "cell_type": "code",
   "execution_count": 115,
   "id": "e31bc922",
   "metadata": {},
   "outputs": [
    {
     "data": {
      "image/png": "[encoded data removed]",
      "text/plain": [
       "<Figure size 720x360 with 1 Axes>"
      ]
     },
     "metadata": {
      "needs_background": "light"
     },
     "output_type": "display_data"
    }
   ],
   "source": [
    "plt.figure(figsize=(10,5))\n",
    "sns.scatterplot(x=df['Discount in percentage'],y=df['Price(In_Rupees)'],hue=df['Channel'],data=df)\n",
    "plt.xticks(rotation = 90)\n",
    "\n",
    "plt.show()"
   ]
  },
  {
   "cell_type": "markdown",
   "id": "38698551",
   "metadata": {},
   "source": [
    "## Observation :\n",
    "### This graph shows that Stereo channel Speaker has low price and more discount.\n"
   ]
  },
  {
   "cell_type": "markdown",
   "id": "fa8067f2",
   "metadata": {},
   "source": [
    "### Cat plot"
   ]
  },
  {
   "cell_type": "code",
   "execution_count": 117,
   "id": "05d9b127",
   "metadata": {},
   "outputs": [
    {
     "data": {
      "text/plain": [
       "<Figure size 14400x9000 with 0 Axes>"
      ]
     },
     "metadata": {},
     "output_type": "display_data"
    },
    {
     "data": {
      "image/png": "[encoded data removed]",
      "text/plain": [
       "<Figure size 360x360 with 1 Axes>"
      ]
     },
     "metadata": {
      "needs_background": "light"
     },
     "output_type": "display_data"
    }
   ],
   "source": [
    "plt.figure(figsize=(200,125))\n",
    "sns.catplot(x = 'Channel',y = 'Price(In_Rupees)',data = df, kind = 'bar')\n",
    "plt.xticks(rotation = 90)\n",
    "plt.show()"
   ]
  },
  {
   "cell_type": "markdown",
   "id": "d2cc225d",
   "metadata": {},
   "source": [
    "## Observation:\n",
    "### We observe that channel 2.1 has more price above 4000 and 5.0 channel has price near to 1000."
   ]
  },
  {
   "cell_type": "code",
   "execution_count": 124,
   "id": "aa18d3eb",
   "metadata": {},
   "outputs": [
    {
     "data": {
      "text/html": [
       "<div>\n",
       "<style scoped>\n",
       "    .dataframe tbody tr th:only-of-type {\n",
       "        vertical-align: middle;\n",
       "    }\n",
       "\n",
       "    .dataframe tbody tr th {\n",
       "        vertical-align: top;\n",
       "    }\n",
       "\n",
       "    .dataframe thead th {\n",
       "        text-align: right;\n",
       "    }\n",
       "</style>\n",
       "<table border=\"1\" class=\"dataframe\">\n",
       "  <thead>\n",
       "    <tr style=\"text-align: right;\">\n",
       "      <th></th>\n",
       "      <th>Brand</th>\n",
       "      <th>Price(In_Rupees)</th>\n",
       "      <th>Discount in percentage</th>\n",
       "      <th>Rating</th>\n",
       "      <th>Shipping_Charge</th>\n",
       "      <th>Color</th>\n",
       "      <th>Channel</th>\n",
       "    </tr>\n",
       "  </thead>\n",
       "  <tbody>\n",
       "    <tr>\n",
       "      <th>0</th>\n",
       "      <td>boAt</td>\n",
       "      <td>2499</td>\n",
       "      <td>64</td>\n",
       "      <td>4.4</td>\n",
       "      <td>Free delivery</td>\n",
       "      <td>Navy</td>\n",
       "      <td>Stereo Channel</td>\n",
       "    </tr>\n",
       "    <tr>\n",
       "      <th>1</th>\n",
       "      <td>boAt</td>\n",
       "      <td>4499</td>\n",
       "      <td>43</td>\n",
       "      <td>4.0</td>\n",
       "      <td>Free delivery</td>\n",
       "      <td>Red</td>\n",
       "      <td>Stereo Channel</td>\n",
       "    </tr>\n",
       "    <tr>\n",
       "      <th>2</th>\n",
       "      <td>I-kallntex</td>\n",
       "      <td>2599</td>\n",
       "      <td>13</td>\n",
       "      <td>3.8</td>\n",
       "      <td>Free delivery</td>\n",
       "      <td>Black</td>\n",
       "      <td>4.1 Channel</td>\n",
       "    </tr>\n",
       "    <tr>\n",
       "      <th>3</th>\n",
       "      <td>boAt</td>\n",
       "      <td>1299</td>\n",
       "      <td>56</td>\n",
       "      <td>4.4</td>\n",
       "      <td>Free delivery</td>\n",
       "      <td>Blue</td>\n",
       "      <td>Stereo Channel</td>\n",
       "    </tr>\n",
       "    <tr>\n",
       "      <th>4</th>\n",
       "      <td>Mivi</td>\n",
       "      <td>849</td>\n",
       "      <td>57</td>\n",
       "      <td>4.2</td>\n",
       "      <td>Free delivery</td>\n",
       "      <td>Blue</td>\n",
       "      <td>Mono Channel</td>\n",
       "    </tr>\n",
       "    <tr>\n",
       "      <th>...</th>\n",
       "      <td>...</td>\n",
       "      <td>...</td>\n",
       "      <td>...</td>\n",
       "      <td>...</td>\n",
       "      <td>...</td>\n",
       "      <td>...</td>\n",
       "      <td>...</td>\n",
       "    </tr>\n",
       "    <tr>\n",
       "      <th>1955</th>\n",
       "      <td>ZEBRONI-kallCS</td>\n",
       "      <td>1999</td>\n",
       "      <td>42</td>\n",
       "      <td>4.0</td>\n",
       "      <td>Free delivery</td>\n",
       "      <td>Black</td>\n",
       "      <td>Stereo Channel</td>\n",
       "    </tr>\n",
       "    <tr>\n",
       "      <th>1956</th>\n",
       "      <td>boAt</td>\n",
       "      <td>3999</td>\n",
       "      <td>42</td>\n",
       "      <td>4.4</td>\n",
       "      <td>Free delivery</td>\n",
       "      <td>Black</td>\n",
       "      <td>Stereo Channel</td>\n",
       "    </tr>\n",
       "    <tr>\n",
       "      <th>1957</th>\n",
       "      <td>etmax</td>\n",
       "      <td>997</td>\n",
       "      <td>56</td>\n",
       "      <td>3.8</td>\n",
       "      <td>Free delivery</td>\n",
       "      <td>Black</td>\n",
       "      <td>Stereo Channel</td>\n",
       "    </tr>\n",
       "    <tr>\n",
       "      <th>1958</th>\n",
       "      <td>boAt</td>\n",
       "      <td>1999</td>\n",
       "      <td>33</td>\n",
       "      <td>4.0</td>\n",
       "      <td>Free delivery</td>\n",
       "      <td>Black</td>\n",
       "      <td>Stereo Channel</td>\n",
       "    </tr>\n",
       "    <tr>\n",
       "      <th>1959</th>\n",
       "      <td>KSD</td>\n",
       "      <td>989</td>\n",
       "      <td>50</td>\n",
       "      <td>3.8</td>\n",
       "      <td>Free delivery</td>\n",
       "      <td>Black</td>\n",
       "      <td>5.0 Channel</td>\n",
       "    </tr>\n",
       "  </tbody>\n",
       "</table>\n",
       "<p>1960 rows × 7 columns</p>\n",
       "</div>"
      ],
      "text/plain": [
       "               Brand  Price(In_Rupees)  Discount in percentage  Rating  \\\n",
       "0               boAt              2499                      64     4.4   \n",
       "1               boAt              4499                      43     4.0   \n",
       "2         I-kallntex              2599                      13     3.8   \n",
       "3               boAt              1299                      56     4.4   \n",
       "4               Mivi               849                      57     4.2   \n",
       "...              ...               ...                     ...     ...   \n",
       "1955  ZEBRONI-kallCS              1999                      42     4.0   \n",
       "1956            boAt              3999                      42     4.4   \n",
       "1957           etmax               997                      56     3.8   \n",
       "1958            boAt              1999                      33     4.0   \n",
       "1959             KSD               989                      50     3.8   \n",
       "\n",
       "     Shipping_Charge  Color         Channel  \n",
       "0      Free delivery   Navy  Stereo Channel  \n",
       "1      Free delivery    Red  Stereo Channel  \n",
       "2      Free delivery  Black     4.1 Channel  \n",
       "3      Free delivery   Blue  Stereo Channel  \n",
       "4      Free delivery   Blue    Mono Channel  \n",
       "...              ...    ...             ...  \n",
       "1955   Free delivery  Black  Stereo Channel  \n",
       "1956   Free delivery  Black  Stereo Channel  \n",
       "1957   Free delivery  Black  Stereo Channel  \n",
       "1958   Free delivery  Black  Stereo Channel  \n",
       "1959   Free delivery  Black     5.0 Channel  \n",
       "\n",
       "[1960 rows x 7 columns]"
      ]
     },
     "execution_count": 124,
     "metadata": {},
     "output_type": "execute_result"
    }
   ],
   "source": [
    "df"
   ]
  },
  {
   "cell_type": "markdown",
   "id": "90b1913c",
   "metadata": {},
   "source": [
    "### Scenario 1:"
   ]
  },
  {
   "cell_type": "code",
   "execution_count": 129,
   "id": "9e8d4d44",
   "metadata": {},
   "outputs": [
    {
     "data": {
      "text/html": [
       "<div>\n",
       "<style scoped>\n",
       "    .dataframe tbody tr th:only-of-type {\n",
       "        vertical-align: middle;\n",
       "    }\n",
       "\n",
       "    .dataframe tbody tr th {\n",
       "        vertical-align: top;\n",
       "    }\n",
       "\n",
       "    .dataframe thead th {\n",
       "        text-align: right;\n",
       "    }\n",
       "</style>\n",
       "<table border=\"1\" class=\"dataframe\">\n",
       "  <thead>\n",
       "    <tr style=\"text-align: right;\">\n",
       "      <th></th>\n",
       "      <th>Brand</th>\n",
       "      <th>Price(In_Rupees)</th>\n",
       "      <th>Discount in percentage</th>\n",
       "      <th>Rating</th>\n",
       "      <th>Shipping_Charge</th>\n",
       "      <th>Color</th>\n",
       "      <th>Channel</th>\n",
       "    </tr>\n",
       "  </thead>\n",
       "  <tbody>\n",
       "    <tr>\n",
       "      <th>7</th>\n",
       "      <td>boAt</td>\n",
       "      <td>3999</td>\n",
       "      <td>42</td>\n",
       "      <td>4.4</td>\n",
       "      <td>Free delivery</td>\n",
       "      <td>Black</td>\n",
       "      <td>Stereo Channel</td>\n",
       "    </tr>\n",
       "    <tr>\n",
       "      <th>9</th>\n",
       "      <td>boAt</td>\n",
       "      <td>1699</td>\n",
       "      <td>51</td>\n",
       "      <td>4.3</td>\n",
       "      <td>Free delivery</td>\n",
       "      <td>Black</td>\n",
       "      <td>Mono Channel</td>\n",
       "    </tr>\n",
       "    <tr>\n",
       "      <th>18</th>\n",
       "      <td>boAt</td>\n",
       "      <td>1699</td>\n",
       "      <td>43</td>\n",
       "      <td>4.2</td>\n",
       "      <td>Free delivery</td>\n",
       "      <td>Black</td>\n",
       "      <td>Mono Channel</td>\n",
       "    </tr>\n",
       "    <tr>\n",
       "      <th>45</th>\n",
       "      <td>boAt</td>\n",
       "      <td>1699</td>\n",
       "      <td>51</td>\n",
       "      <td>4.3</td>\n",
       "      <td>Free delivery</td>\n",
       "      <td>Black</td>\n",
       "      <td>Mono Channel</td>\n",
       "    </tr>\n",
       "    <tr>\n",
       "      <th>50</th>\n",
       "      <td>boAt</td>\n",
       "      <td>1699</td>\n",
       "      <td>43</td>\n",
       "      <td>4.2</td>\n",
       "      <td>Free delivery</td>\n",
       "      <td>Black</td>\n",
       "      <td>Mono Channel</td>\n",
       "    </tr>\n",
       "    <tr>\n",
       "      <th>...</th>\n",
       "      <td>...</td>\n",
       "      <td>...</td>\n",
       "      <td>...</td>\n",
       "      <td>...</td>\n",
       "      <td>...</td>\n",
       "      <td>...</td>\n",
       "      <td>...</td>\n",
       "    </tr>\n",
       "    <tr>\n",
       "      <th>1898</th>\n",
       "      <td>boAt</td>\n",
       "      <td>1699</td>\n",
       "      <td>43</td>\n",
       "      <td>4.2</td>\n",
       "      <td>Free delivery</td>\n",
       "      <td>Black</td>\n",
       "      <td>Mono Channel</td>\n",
       "    </tr>\n",
       "    <tr>\n",
       "      <th>1925</th>\n",
       "      <td>boAt</td>\n",
       "      <td>1699</td>\n",
       "      <td>51</td>\n",
       "      <td>4.3</td>\n",
       "      <td>Free delivery</td>\n",
       "      <td>Black</td>\n",
       "      <td>Mono Channel</td>\n",
       "    </tr>\n",
       "    <tr>\n",
       "      <th>1930</th>\n",
       "      <td>boAt</td>\n",
       "      <td>1699</td>\n",
       "      <td>43</td>\n",
       "      <td>4.2</td>\n",
       "      <td>Free delivery</td>\n",
       "      <td>Black</td>\n",
       "      <td>Mono Channel</td>\n",
       "    </tr>\n",
       "    <tr>\n",
       "      <th>1956</th>\n",
       "      <td>boAt</td>\n",
       "      <td>3999</td>\n",
       "      <td>42</td>\n",
       "      <td>4.4</td>\n",
       "      <td>Free delivery</td>\n",
       "      <td>Black</td>\n",
       "      <td>Stereo Channel</td>\n",
       "    </tr>\n",
       "    <tr>\n",
       "      <th>1958</th>\n",
       "      <td>boAt</td>\n",
       "      <td>1999</td>\n",
       "      <td>33</td>\n",
       "      <td>4.0</td>\n",
       "      <td>Free delivery</td>\n",
       "      <td>Black</td>\n",
       "      <td>Stereo Channel</td>\n",
       "    </tr>\n",
       "  </tbody>\n",
       "</table>\n",
       "<p>168 rows × 7 columns</p>\n",
       "</div>"
      ],
      "text/plain": [
       "     Brand  Price(In_Rupees)  Discount in percentage  Rating Shipping_Charge  \\\n",
       "7     boAt              3999                      42     4.4   Free delivery   \n",
       "9     boAt              1699                      51     4.3   Free delivery   \n",
       "18    boAt              1699                      43     4.2   Free delivery   \n",
       "45    boAt              1699                      51     4.3   Free delivery   \n",
       "50    boAt              1699                      43     4.2   Free delivery   \n",
       "...    ...               ...                     ...     ...             ...   \n",
       "1898  boAt              1699                      43     4.2   Free delivery   \n",
       "1925  boAt              1699                      51     4.3   Free delivery   \n",
       "1930  boAt              1699                      43     4.2   Free delivery   \n",
       "1956  boAt              3999                      42     4.4   Free delivery   \n",
       "1958  boAt              1999                      33     4.0   Free delivery   \n",
       "\n",
       "      Color         Channel  \n",
       "7     Black  Stereo Channel  \n",
       "9     Black    Mono Channel  \n",
       "18    Black    Mono Channel  \n",
       "45    Black    Mono Channel  \n",
       "50    Black    Mono Channel  \n",
       "...     ...             ...  \n",
       "1898  Black    Mono Channel  \n",
       "1925  Black    Mono Channel  \n",
       "1930  Black    Mono Channel  \n",
       "1956  Black  Stereo Channel  \n",
       "1958  Black  Stereo Channel  \n",
       "\n",
       "[168 rows x 7 columns]"
      ]
     },
     "execution_count": 129,
     "metadata": {},
     "output_type": "execute_result"
    }
   ],
   "source": [
    "\n",
    "df[(df['Brand'] == 'boAt') & (df['Price(In_Rupees)'] <= 5000) & (df['Color'] == 'Black')]"
   ]
  },
  {
   "cell_type": "markdown",
   "id": "94ac785d",
   "metadata": {},
   "source": [
    "### Scenario 2:"
   ]
  },
  {
   "cell_type": "code",
   "execution_count": 127,
   "id": "dc078250",
   "metadata": {},
   "outputs": [
    {
     "data": {
      "text/html": [
       "<div>\n",
       "<style scoped>\n",
       "    .dataframe tbody tr th:only-of-type {\n",
       "        vertical-align: middle;\n",
       "    }\n",
       "\n",
       "    .dataframe tbody tr th {\n",
       "        vertical-align: top;\n",
       "    }\n",
       "\n",
       "    .dataframe thead th {\n",
       "        text-align: right;\n",
       "    }\n",
       "</style>\n",
       "<table border=\"1\" class=\"dataframe\">\n",
       "  <thead>\n",
       "    <tr style=\"text-align: right;\">\n",
       "      <th></th>\n",
       "      <th>Brand</th>\n",
       "      <th>Price(In_Rupees)</th>\n",
       "      <th>Discount in percentage</th>\n",
       "      <th>Rating</th>\n",
       "      <th>Shipping_Charge</th>\n",
       "      <th>Color</th>\n",
       "      <th>Channel</th>\n",
       "    </tr>\n",
       "  </thead>\n",
       "  <tbody>\n",
       "    <tr>\n",
       "      <th>13</th>\n",
       "      <td>Mivi</td>\n",
       "      <td>1499</td>\n",
       "      <td>50</td>\n",
       "      <td>4.2</td>\n",
       "      <td>Free delivery</td>\n",
       "      <td>Black</td>\n",
       "      <td>2.0 Channel</td>\n",
       "    </tr>\n",
       "    <tr>\n",
       "      <th>21</th>\n",
       "      <td>Mivi</td>\n",
       "      <td>1999</td>\n",
       "      <td>50</td>\n",
       "      <td>4.0</td>\n",
       "      <td>Free delivery</td>\n",
       "      <td>Black</td>\n",
       "      <td>2.0 Channel</td>\n",
       "    </tr>\n",
       "    <tr>\n",
       "      <th>24</th>\n",
       "      <td>Mivi</td>\n",
       "      <td>3499</td>\n",
       "      <td>50</td>\n",
       "      <td>4.4</td>\n",
       "      <td>Free delivery</td>\n",
       "      <td>Black</td>\n",
       "      <td>2.2 Channel</td>\n",
       "    </tr>\n",
       "    <tr>\n",
       "      <th>43</th>\n",
       "      <td>Mivi</td>\n",
       "      <td>1499</td>\n",
       "      <td>50</td>\n",
       "      <td>4.2</td>\n",
       "      <td>Free delivery</td>\n",
       "      <td>Black</td>\n",
       "      <td>2.0 Channel</td>\n",
       "    </tr>\n",
       "    <tr>\n",
       "      <th>52</th>\n",
       "      <td>Mivi</td>\n",
       "      <td>1999</td>\n",
       "      <td>50</td>\n",
       "      <td>4.0</td>\n",
       "      <td>Free delivery</td>\n",
       "      <td>Black</td>\n",
       "      <td>2.0 Channel</td>\n",
       "    </tr>\n",
       "    <tr>\n",
       "      <th>...</th>\n",
       "      <td>...</td>\n",
       "      <td>...</td>\n",
       "      <td>...</td>\n",
       "      <td>...</td>\n",
       "      <td>...</td>\n",
       "      <td>...</td>\n",
       "      <td>...</td>\n",
       "    </tr>\n",
       "    <tr>\n",
       "      <th>1904</th>\n",
       "      <td>Mivi</td>\n",
       "      <td>3499</td>\n",
       "      <td>50</td>\n",
       "      <td>4.4</td>\n",
       "      <td>Free delivery</td>\n",
       "      <td>Black</td>\n",
       "      <td>2.2 Channel</td>\n",
       "    </tr>\n",
       "    <tr>\n",
       "      <th>1923</th>\n",
       "      <td>Mivi</td>\n",
       "      <td>1499</td>\n",
       "      <td>50</td>\n",
       "      <td>4.2</td>\n",
       "      <td>Free delivery</td>\n",
       "      <td>Black</td>\n",
       "      <td>2.0 Channel</td>\n",
       "    </tr>\n",
       "    <tr>\n",
       "      <th>1932</th>\n",
       "      <td>Mivi</td>\n",
       "      <td>1999</td>\n",
       "      <td>50</td>\n",
       "      <td>4.0</td>\n",
       "      <td>Free delivery</td>\n",
       "      <td>Black</td>\n",
       "      <td>2.0 Channel</td>\n",
       "    </tr>\n",
       "    <tr>\n",
       "      <th>1936</th>\n",
       "      <td>Mivi</td>\n",
       "      <td>3499</td>\n",
       "      <td>50</td>\n",
       "      <td>4.4</td>\n",
       "      <td>Free delivery</td>\n",
       "      <td>Black</td>\n",
       "      <td>2.2 Channel</td>\n",
       "    </tr>\n",
       "    <tr>\n",
       "      <th>1959</th>\n",
       "      <td>KSD</td>\n",
       "      <td>989</td>\n",
       "      <td>50</td>\n",
       "      <td>3.8</td>\n",
       "      <td>Free delivery</td>\n",
       "      <td>Black</td>\n",
       "      <td>5.0 Channel</td>\n",
       "    </tr>\n",
       "  </tbody>\n",
       "</table>\n",
       "<p>164 rows × 7 columns</p>\n",
       "</div>"
      ],
      "text/plain": [
       "     Brand  Price(In_Rupees)  Discount in percentage  Rating Shipping_Charge  \\\n",
       "13    Mivi              1499                      50     4.2   Free delivery   \n",
       "21    Mivi              1999                      50     4.0   Free delivery   \n",
       "24    Mivi              3499                      50     4.4   Free delivery   \n",
       "43    Mivi              1499                      50     4.2   Free delivery   \n",
       "52    Mivi              1999                      50     4.0   Free delivery   \n",
       "...    ...               ...                     ...     ...             ...   \n",
       "1904  Mivi              3499                      50     4.4   Free delivery   \n",
       "1923  Mivi              1499                      50     4.2   Free delivery   \n",
       "1932  Mivi              1999                      50     4.0   Free delivery   \n",
       "1936  Mivi              3499                      50     4.4   Free delivery   \n",
       "1959   KSD               989                      50     3.8   Free delivery   \n",
       "\n",
       "      Color      Channel  \n",
       "13    Black  2.0 Channel  \n",
       "21    Black  2.0 Channel  \n",
       "24    Black  2.2 Channel  \n",
       "43    Black  2.0 Channel  \n",
       "52    Black  2.0 Channel  \n",
       "...     ...          ...  \n",
       "1904  Black  2.2 Channel  \n",
       "1923  Black  2.0 Channel  \n",
       "1932  Black  2.0 Channel  \n",
       "1936  Black  2.2 Channel  \n",
       "1959  Black  5.0 Channel  \n",
       "\n",
       "[164 rows x 7 columns]"
      ]
     },
     "execution_count": 127,
     "metadata": {},
     "output_type": "execute_result"
    }
   ],
   "source": [
    "df[(df['Discount in percentage'] == 50) & (df['Price(In_Rupees)'] <= 4000) & (df['Color'] == 'Black')]"
   ]
  },
  {
   "cell_type": "code",
   "execution_count": null,
   "id": "eae4b521",
   "metadata": {},
   "outputs": [],
   "source": []
  }
 ],
 "metadata": {
  "kernelspec": {
   "display_name": "Python 3 (ipykernel)",
   "language": "python",
   "name": "python3"
  },
  "language_info": {
   "codemirror_mode": {
    "name": "ipython",
    "version": 3
   },
   "file_extension": ".py",
   "mimetype": "text/x-python",
   "name": "python",
   "nbconvert_exporter": "python",
   "pygments_lexer": "ipython3",
   "version": "3.9.12"
  }
 },
 "nbformat": 4,
 "nbformat_minor": 5
}
